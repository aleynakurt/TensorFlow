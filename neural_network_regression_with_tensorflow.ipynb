{
 "cells": [
  {
   "cell_type": "code",
   "execution_count": 6,
   "metadata": {},
   "outputs": [],
   "source": [
    "import tensorflow as tf \n",
    "import numpy as np\n",
    "import matplotlib.pyplot as plt \n",
    "import pandas as pd"
   ]
  },
  {
   "cell_type": "code",
   "execution_count": 7,
   "metadata": {},
   "outputs": [
    {
     "data": {
      "text/plain": [
       "<matplotlib.collections.PathCollection at 0x17bc93700>"
      ]
     },
     "execution_count": 7,
     "metadata": {},
     "output_type": "execute_result"
    },
    {
     "data": {
      "image/png": "[encoded data removed]",
      "text/plain": [
       "<Figure size 432x288 with 1 Axes>"
      ]
     },
     "metadata": {
      "needs_background": "light"
     },
     "output_type": "display_data"
    }
   ],
   "source": [
    "#create features\n",
    "x = np.array([-7.0, -4.0, -1.0, 2.0, 5.0, 8.0, 11.0, 14.0])\n",
    "\n",
    "#create labels\n",
    "y = np.array([3.0, 6.0, 9.0, 12.0, 15.0, 18.0, 21.0, 24.0])\n",
    "\n",
    "#visualize it\n",
    "plt.scatter(x, y)"
   ]
  },
  {
   "cell_type": "code",
   "execution_count": 8,
   "metadata": {},
   "outputs": [
    {
     "data": {
      "text/plain": [
       "array([ True,  True,  True,  True,  True,  True,  True,  True])"
      ]
     },
     "execution_count": 8,
     "metadata": {},
     "output_type": "execute_result"
    }
   ],
   "source": [
    "y == x + 10"
   ]
  },
  {
   "cell_type": "code",
   "execution_count": 9,
   "metadata": {},
   "outputs": [
    {
     "data": {
      "text/plain": [
       "(<tf.Tensor: shape=(3,), dtype=string, numpy=array([b'bedroom', b'bathroom', b'garage'], dtype=object)>,\n",
       " <tf.Tensor: shape=(1,), dtype=int32, numpy=array([939700], dtype=int32)>)"
      ]
     },
     "execution_count": 9,
     "metadata": {},
     "output_type": "execute_result"
    }
   ],
   "source": [
    "#create a demo tensor for our housing price prediction problem\n",
    "house_info = tf.constant([\"bedroom\", \"bathroom\", \"garage\"])\n",
    "house_price = tf.constant([939700])\n",
    "house_info, house_price"
   ]
  },
  {
   "cell_type": "code",
   "execution_count": 10,
   "metadata": {},
   "outputs": [
    {
     "data": {
      "text/plain": [
       "(-7.0, 3.0)"
      ]
     },
     "execution_count": 10,
     "metadata": {},
     "output_type": "execute_result"
    }
   ],
   "source": [
    "x[0], y[0]"
   ]
  },
  {
   "cell_type": "code",
   "execution_count": 11,
   "metadata": {},
   "outputs": [
    {
     "data": {
      "text/plain": [
       "(-4.0, 6.0)"
      ]
     },
     "execution_count": 11,
     "metadata": {},
     "output_type": "execute_result"
    }
   ],
   "source": [
    "x[1], y[1]"
   ]
  },
  {
   "cell_type": "code",
   "execution_count": 12,
   "metadata": {},
   "outputs": [
    {
     "data": {
      "text/plain": [
       "((8,), (8,))"
      ]
     },
     "execution_count": 12,
     "metadata": {},
     "output_type": "execute_result"
    }
   ],
   "source": [
    "input_shape = x.shape\n",
    "output_shape = y.shape\n",
    "input_shape, output_shape"
   ]
  },
  {
   "cell_type": "code",
   "execution_count": 13,
   "metadata": {},
   "outputs": [],
   "source": [
    "###model.add(reshape((input_dim,), input_shape=(input_dim,)))"
   ]
  },
  {
   "cell_type": "code",
   "execution_count": 14,
   "metadata": {},
   "outputs": [
    {
     "name": "stderr",
     "output_type": "stream",
     "text": [
      "WARNING:absl:At this time, the v2.11+ optimizer `tf.keras.optimizers.SGD` runs slowly on M1/M2 Macs, please use the legacy Keras optimizer instead, located at `tf.keras.optimizers.legacy.SGD`.\n"
     ]
    },
    {
     "name": "stdout",
     "output_type": "stream",
     "text": [
      "Epoch 1/5\n",
      "1/1 [==============================] - 0s 115ms/step - loss: 14.2153 - mae: 14.2153\n",
      "Epoch 2/5\n",
      "1/1 [==============================] - 0s 2ms/step - loss: 14.0828 - mae: 14.0828\n",
      "Epoch 3/5\n",
      "1/1 [==============================] - 0s 2ms/step - loss: 13.9503 - mae: 13.9503\n",
      "Epoch 4/5\n",
      "1/1 [==============================] - 0s 2ms/step - loss: 13.8178 - mae: 13.8178\n",
      "Epoch 5/5\n",
      "1/1 [==============================] - 0s 2ms/step - loss: 13.6853 - mae: 13.6853\n"
     ]
    },
    {
     "data": {
      "text/plain": [
       "<keras.src.callbacks.History at 0x17cc6e260>"
      ]
     },
     "execution_count": 14,
     "metadata": {},
     "output_type": "execute_result"
    }
   ],
   "source": [
    "#x = x.reshape(-1, 1)\n",
    "tf.random.set_seed(42)\n",
    "\n",
    "#create a model using the sequential API\n",
    "model = tf.keras.Sequential([\n",
    "    tf.keras.layers.Dense(1, input_shape=[1])\n",
    "])\n",
    "\n",
    "#compile the model\n",
    "model.compile(loss=tf.keras.losses.mae, #mean absolute error\n",
    "                optimizer = tf.keras.optimizers.SGD(), #stochastic gradient descent\n",
    "                metrics=[\"mae\"])\n",
    "\n",
    "#fit the model\n",
    "model.fit(x, y, epochs=5)\n"
   ]
  },
  {
   "cell_type": "code",
   "execution_count": 15,
   "metadata": {},
   "outputs": [
    {
     "data": {
      "text/plain": [
       "(array([-7., -4., -1.,  2.,  5.,  8., 11., 14.]),\n",
       " array([ 3.,  6.,  9., 12., 15., 18., 21., 24.]))"
      ]
     },
     "execution_count": 15,
     "metadata": {},
     "output_type": "execute_result"
    }
   ],
   "source": [
    "#check out x and y\n",
    "x, y"
   ]
  },
  {
   "cell_type": "code",
   "execution_count": 16,
   "metadata": {},
   "outputs": [
    {
     "name": "stdout",
     "output_type": "stream",
     "text": [
      "1/1 [==============================] - 0s 42ms/step\n"
     ]
    },
    {
     "data": {
      "text/plain": [
       "array([[-0.44907987],\n",
       "       [ 0.05      ]], dtype=float32)"
      ]
     },
     "execution_count": 16,
     "metadata": {},
     "output_type": "execute_result"
    }
   ],
   "source": [
    "#try and make a prediction using our model\n",
    "y_pred = model.predict([17,0])\n",
    "y_pred"
   ]
  },
  {
   "cell_type": "code",
   "execution_count": 17,
   "metadata": {},
   "outputs": [
    {
     "name": "stderr",
     "output_type": "stream",
     "text": [
      "WARNING:absl:At this time, the v2.11+ optimizer `tf.keras.optimizers.SGD` runs slowly on M1/M2 Macs, please use the legacy Keras optimizer instead, located at `tf.keras.optimizers.legacy.SGD`.\n"
     ]
    },
    {
     "name": "stdout",
     "output_type": "stream",
     "text": [
      "Epoch 1/100\n",
      "1/1 [==============================] - 0s 89ms/step - loss: 20.6720 - mae: 20.6720\n",
      "Epoch 2/100\n",
      "1/1 [==============================] - 0s 2ms/step - loss: 20.3326 - mae: 20.3326\n",
      "Epoch 3/100\n",
      "1/1 [==============================] - 0s 2ms/step - loss: 20.0514 - mae: 20.0514\n",
      "Epoch 4/100\n",
      "1/1 [==============================] - 0s 2ms/step - loss: 19.7701 - mae: 19.7701\n",
      "Epoch 5/100\n",
      "1/1 [==============================] - 0s 2ms/step - loss: 19.4889 - mae: 19.4889\n",
      "Epoch 6/100\n",
      "1/1 [==============================] - 0s 2ms/step - loss: 19.2076 - mae: 19.2076\n",
      "Epoch 7/100\n",
      "1/1 [==============================] - 0s 2ms/step - loss: 18.9264 - mae: 18.9264\n",
      "Epoch 8/100\n",
      "1/1 [==============================] - 0s 2ms/step - loss: 18.6451 - mae: 18.6451\n",
      "Epoch 9/100\n",
      "1/1 [==============================] - 0s 2ms/step - loss: 18.3639 - mae: 18.3639\n",
      "Epoch 10/100\n",
      "1/1 [==============================] - 0s 3ms/step - loss: 18.0826 - mae: 18.0826\n",
      "Epoch 11/100\n",
      "1/1 [==============================] - 0s 2ms/step - loss: 17.8014 - mae: 17.8014\n",
      "Epoch 12/100\n",
      "1/1 [==============================] - 0s 2ms/step - loss: 17.5201 - mae: 17.5201\n",
      "Epoch 13/100\n",
      "1/1 [==============================] - 0s 2ms/step - loss: 17.2389 - mae: 17.2389\n",
      "Epoch 14/100\n",
      "1/1 [==============================] - 0s 2ms/step - loss: 16.9576 - mae: 16.9576\n",
      "Epoch 15/100\n",
      "1/1 [==============================] - 0s 2ms/step - loss: 16.6764 - mae: 16.6764\n",
      "Epoch 16/100\n",
      "1/1 [==============================] - 0s 2ms/step - loss: 16.3951 - mae: 16.3951\n",
      "Epoch 17/100\n",
      "1/1 [==============================] - 0s 2ms/step - loss: 16.1139 - mae: 16.1139\n",
      "Epoch 18/100\n",
      "1/1 [==============================] - 0s 2ms/step - loss: 15.8326 - mae: 15.8326\n",
      "Epoch 19/100\n",
      "1/1 [==============================] - 0s 2ms/step - loss: 15.5514 - mae: 15.5514\n",
      "Epoch 20/100\n",
      "1/1 [==============================] - 0s 2ms/step - loss: 15.2701 - mae: 15.2701\n",
      "Epoch 21/100\n",
      "1/1 [==============================] - 0s 2ms/step - loss: 14.9889 - mae: 14.9889\n",
      "Epoch 22/100\n",
      "1/1 [==============================] - 0s 2ms/step - loss: 14.7276 - mae: 14.7276\n",
      "Epoch 23/100\n",
      "1/1 [==============================] - 0s 2ms/step - loss: 14.5951 - mae: 14.5951\n",
      "Epoch 24/100\n",
      "1/1 [==============================] - 0s 2ms/step - loss: 14.4626 - mae: 14.4626\n",
      "Epoch 25/100\n",
      "1/1 [==============================] - 0s 2ms/step - loss: 14.3301 - mae: 14.3301\n",
      "Epoch 26/100\n",
      "1/1 [==============================] - 0s 2ms/step - loss: 14.1976 - mae: 14.1976\n",
      "Epoch 27/100\n",
      "1/1 [==============================] - 0s 2ms/step - loss: 14.0651 - mae: 14.0651\n",
      "Epoch 28/100\n",
      "1/1 [==============================] - 0s 3ms/step - loss: 13.9326 - mae: 13.9326\n",
      "Epoch 29/100\n",
      "1/1 [==============================] - 0s 2ms/step - loss: 13.8001 - mae: 13.8001\n",
      "Epoch 30/100\n",
      "1/1 [==============================] - 0s 2ms/step - loss: 13.6676 - mae: 13.6676\n",
      "Epoch 31/100\n",
      "1/1 [==============================] - 0s 2ms/step - loss: 13.5351 - mae: 13.5351\n",
      "Epoch 32/100\n",
      "1/1 [==============================] - 0s 2ms/step - loss: 13.4026 - mae: 13.4026\n",
      "Epoch 33/100\n",
      "1/1 [==============================] - 0s 2ms/step - loss: 13.2701 - mae: 13.2701\n",
      "Epoch 34/100\n",
      "1/1 [==============================] - 0s 2ms/step - loss: 13.1376 - mae: 13.1376\n",
      "Epoch 35/100\n",
      "1/1 [==============================] - 0s 2ms/step - loss: 13.0051 - mae: 13.0051\n",
      "Epoch 36/100\n",
      "1/1 [==============================] - 0s 2ms/step - loss: 12.8726 - mae: 12.8726\n",
      "Epoch 37/100\n",
      "1/1 [==============================] - 0s 2ms/step - loss: 12.7401 - mae: 12.7401\n",
      "Epoch 38/100\n",
      "1/1 [==============================] - 0s 2ms/step - loss: 12.6076 - mae: 12.6076\n",
      "Epoch 39/100\n",
      "1/1 [==============================] - 0s 2ms/step - loss: 12.4751 - mae: 12.4751\n",
      "Epoch 40/100\n",
      "1/1 [==============================] - 0s 2ms/step - loss: 12.3426 - mae: 12.3426\n",
      "Epoch 41/100\n",
      "1/1 [==============================] - 0s 2ms/step - loss: 12.2101 - mae: 12.2101\n",
      "Epoch 42/100\n",
      "1/1 [==============================] - 0s 2ms/step - loss: 12.0776 - mae: 12.0776\n",
      "Epoch 43/100\n",
      "1/1 [==============================] - 0s 2ms/step - loss: 11.9451 - mae: 11.9451\n",
      "Epoch 44/100\n",
      "1/1 [==============================] - 0s 2ms/step - loss: 11.8126 - mae: 11.8126\n",
      "Epoch 45/100\n",
      "1/1 [==============================] - 0s 2ms/step - loss: 11.6801 - mae: 11.6801\n",
      "Epoch 46/100\n",
      "1/1 [==============================] - 0s 2ms/step - loss: 11.5476 - mae: 11.5476\n",
      "Epoch 47/100\n",
      "1/1 [==============================] - 0s 2ms/step - loss: 11.4151 - mae: 11.4151\n",
      "Epoch 48/100\n",
      "1/1 [==============================] - 0s 2ms/step - loss: 11.2826 - mae: 11.2826\n",
      "Epoch 49/100\n",
      "1/1 [==============================] - 0s 2ms/step - loss: 11.1501 - mae: 11.1501\n",
      "Epoch 50/100\n",
      "1/1 [==============================] - 0s 2ms/step - loss: 11.0176 - mae: 11.0176\n",
      "Epoch 51/100\n",
      "1/1 [==============================] - 0s 2ms/step - loss: 10.8851 - mae: 10.8851\n",
      "Epoch 52/100\n",
      "1/1 [==============================] - 0s 2ms/step - loss: 10.7526 - mae: 10.7526\n",
      "Epoch 53/100\n",
      "1/1 [==============================] - 0s 2ms/step - loss: 10.6201 - mae: 10.6201\n",
      "Epoch 54/100\n",
      "1/1 [==============================] - 0s 3ms/step - loss: 10.4876 - mae: 10.4876\n",
      "Epoch 55/100\n",
      "1/1 [==============================] - 0s 2ms/step - loss: 10.3551 - mae: 10.3551\n",
      "Epoch 56/100\n",
      "1/1 [==============================] - 0s 2ms/step - loss: 10.2226 - mae: 10.2226\n",
      "Epoch 57/100\n",
      "1/1 [==============================] - 0s 2ms/step - loss: 10.0901 - mae: 10.0901\n",
      "Epoch 58/100\n",
      "1/1 [==============================] - 0s 2ms/step - loss: 9.9576 - mae: 9.9576\n",
      "Epoch 59/100\n",
      "1/1 [==============================] - 0s 2ms/step - loss: 9.8251 - mae: 9.8251\n",
      "Epoch 60/100\n",
      "1/1 [==============================] - 0s 2ms/step - loss: 9.6926 - mae: 9.6926\n",
      "Epoch 61/100\n",
      "1/1 [==============================] - 0s 2ms/step - loss: 9.5601 - mae: 9.5601\n",
      "Epoch 62/100\n",
      "1/1 [==============================] - 0s 3ms/step - loss: 9.4276 - mae: 9.4276\n",
      "Epoch 63/100\n",
      "1/1 [==============================] - 0s 2ms/step - loss: 9.2951 - mae: 9.2951\n",
      "Epoch 64/100\n",
      "1/1 [==============================] - 0s 2ms/step - loss: 9.1626 - mae: 9.1626\n",
      "Epoch 65/100\n",
      "1/1 [==============================] - 0s 2ms/step - loss: 9.0301 - mae: 9.0301\n",
      "Epoch 66/100\n",
      "1/1 [==============================] - 0s 2ms/step - loss: 8.8976 - mae: 8.8976\n",
      "Epoch 67/100\n",
      "1/1 [==============================] - 0s 2ms/step - loss: 8.7651 - mae: 8.7651\n",
      "Epoch 68/100\n",
      "1/1 [==============================] - 0s 2ms/step - loss: 8.6326 - mae: 8.6326\n",
      "Epoch 69/100\n",
      "1/1 [==============================] - 0s 2ms/step - loss: 8.5001 - mae: 8.5001\n",
      "Epoch 70/100\n",
      "1/1 [==============================] - 0s 2ms/step - loss: 8.3676 - mae: 8.3676\n",
      "Epoch 71/100\n",
      "1/1 [==============================] - 0s 2ms/step - loss: 8.2351 - mae: 8.2351\n",
      "Epoch 72/100\n",
      "1/1 [==============================] - 0s 2ms/step - loss: 8.1026 - mae: 8.1026\n",
      "Epoch 73/100\n",
      "1/1 [==============================] - 0s 2ms/step - loss: 7.9701 - mae: 7.9701\n",
      "Epoch 74/100\n",
      "1/1 [==============================] - 0s 2ms/step - loss: 7.8376 - mae: 7.8376\n",
      "Epoch 75/100\n",
      "1/1 [==============================] - 0s 2ms/step - loss: 7.7051 - mae: 7.7051\n",
      "Epoch 76/100\n",
      "1/1 [==============================] - 0s 2ms/step - loss: 7.5726 - mae: 7.5726\n",
      "Epoch 77/100\n",
      "1/1 [==============================] - 0s 2ms/step - loss: 7.4401 - mae: 7.4401\n",
      "Epoch 78/100\n",
      "1/1 [==============================] - 0s 1ms/step - loss: 7.3076 - mae: 7.3076\n",
      "Epoch 79/100\n",
      "1/1 [==============================] - 0s 2ms/step - loss: 7.1751 - mae: 7.1751\n",
      "Epoch 80/100\n",
      "1/1 [==============================] - 0s 2ms/step - loss: 7.0426 - mae: 7.0426\n",
      "Epoch 81/100\n",
      "1/1 [==============================] - 0s 2ms/step - loss: 6.9412 - mae: 6.9412\n",
      "Epoch 82/100\n",
      "1/1 [==============================] - 0s 2ms/step - loss: 6.9356 - mae: 6.9356\n",
      "Epoch 83/100\n",
      "1/1 [==============================] - 0s 2ms/step - loss: 6.9300 - mae: 6.9300\n",
      "Epoch 84/100\n",
      "1/1 [==============================] - 0s 2ms/step - loss: 6.9244 - mae: 6.9244\n",
      "Epoch 85/100\n",
      "1/1 [==============================] - 0s 2ms/step - loss: 6.9188 - mae: 6.9188\n",
      "Epoch 86/100\n",
      "1/1 [==============================] - 0s 2ms/step - loss: 6.9131 - mae: 6.9131\n",
      "Epoch 87/100\n",
      "1/1 [==============================] - 0s 2ms/step - loss: 6.9075 - mae: 6.9075\n",
      "Epoch 88/100\n",
      "1/1 [==============================] - 0s 2ms/step - loss: 6.9019 - mae: 6.9019\n",
      "Epoch 89/100\n",
      "1/1 [==============================] - 0s 2ms/step - loss: 6.8963 - mae: 6.8963\n",
      "Epoch 90/100\n",
      "1/1 [==============================] - 0s 2ms/step - loss: 6.8906 - mae: 6.8906\n",
      "Epoch 91/100\n",
      "1/1 [==============================] - 0s 2ms/step - loss: 6.8850 - mae: 6.8850\n",
      "Epoch 92/100\n",
      "1/1 [==============================] - 0s 3ms/step - loss: 6.8794 - mae: 6.8794\n",
      "Epoch 93/100\n",
      "1/1 [==============================] - 0s 2ms/step - loss: 6.8738 - mae: 6.8738\n",
      "Epoch 94/100\n",
      "1/1 [==============================] - 0s 2ms/step - loss: 6.8681 - mae: 6.8681\n",
      "Epoch 95/100\n",
      "1/1 [==============================] - 0s 2ms/step - loss: 6.8625 - mae: 6.8625\n",
      "Epoch 96/100\n",
      "1/1 [==============================] - 0s 2ms/step - loss: 6.8569 - mae: 6.8569\n",
      "Epoch 97/100\n",
      "1/1 [==============================] - 0s 2ms/step - loss: 6.8513 - mae: 6.8513\n",
      "Epoch 98/100\n",
      "1/1 [==============================] - 0s 3ms/step - loss: 6.8456 - mae: 6.8456\n",
      "Epoch 99/100\n",
      "1/1 [==============================] - 0s 3ms/step - loss: 6.8400 - mae: 6.8400\n",
      "Epoch 100/100\n",
      "1/1 [==============================] - 0s 3ms/step - loss: 6.8344 - mae: 6.8344\n"
     ]
    },
    {
     "data": {
      "text/plain": [
       "<keras.src.callbacks.History at 0x17d215b40>"
      ]
     },
     "execution_count": 17,
     "metadata": {},
     "output_type": "execute_result"
    }
   ],
   "source": [
    "## rebuild model\n",
    "\n",
    "#create a model \n",
    "model = tf.keras.Sequential([\n",
    "    tf.keras.layers.Dense(1 , input_shape=[1])\n",
    "])\n",
    "\n",
    "#compile the model\n",
    "model.compile(loss=tf.keras.losses.mae, #mean absolute error\n",
    "                optimizer = tf.keras.optimizers.SGD(), #stochastic gradient descent\n",
    "                metrics=[\"mae\"])\n",
    "\n",
    "#fit the model (this time we'll train for longer)\n",
    "model.fit(x, y, epochs=100)\n"
   ]
  },
  {
   "cell_type": "code",
   "execution_count": 18,
   "metadata": {},
   "outputs": [
    {
     "name": "stderr",
     "output_type": "stream",
     "text": [
      "WARNING:absl:At this time, the v2.11+ optimizer `tf.keras.optimizers.SGD` runs slowly on M1/M2 Macs, please use the legacy Keras optimizer instead, located at `tf.keras.optimizers.legacy.SGD`.\n"
     ]
    },
    {
     "name": "stdout",
     "output_type": "stream",
     "text": [
      "Epoch 1/100\n",
      "1/1 [==============================] - 0s 124ms/step - loss: 14.1495\n",
      "Epoch 2/100\n",
      "1/1 [==============================] - 0s 2ms/step - loss: 13.8874\n",
      "Epoch 3/100\n",
      "1/1 [==============================] - 0s 1ms/step - loss: 13.6973\n",
      "Epoch 4/100\n",
      "1/1 [==============================] - 0s 2ms/step - loss: 13.5381\n",
      "Epoch 5/100\n",
      "1/1 [==============================] - 0s 2ms/step - loss: 13.3968\n",
      "Epoch 6/100\n",
      "1/1 [==============================] - 0s 2ms/step - loss: 13.2672\n",
      "Epoch 7/100\n",
      "1/1 [==============================] - 0s 2ms/step - loss: 13.1460\n",
      "Epoch 8/100\n",
      "1/1 [==============================] - 0s 1ms/step - loss: 13.0310\n",
      "Epoch 9/100\n",
      "1/1 [==============================] - 0s 1ms/step - loss: 12.9209\n",
      "Epoch 10/100\n",
      "1/1 [==============================] - 0s 2ms/step - loss: 12.8147\n",
      "Epoch 11/100\n",
      "1/1 [==============================] - 0s 2ms/step - loss: 12.7115\n",
      "Epoch 12/100\n",
      "1/1 [==============================] - 0s 1ms/step - loss: 12.6108\n",
      "Epoch 13/100\n",
      "1/1 [==============================] - 0s 2ms/step - loss: 12.5122\n",
      "Epoch 14/100\n",
      "1/1 [==============================] - 0s 2ms/step - loss: 12.4153\n",
      "Epoch 15/100\n",
      "1/1 [==============================] - 0s 2ms/step - loss: 12.3198\n",
      "Epoch 16/100\n",
      "1/1 [==============================] - 0s 2ms/step - loss: 12.2255\n",
      "Epoch 17/100\n",
      "1/1 [==============================] - 0s 2ms/step - loss: 12.1322\n",
      "Epoch 18/100\n",
      "1/1 [==============================] - 0s 2ms/step - loss: 12.0399\n",
      "Epoch 19/100\n",
      "1/1 [==============================] - 0s 2ms/step - loss: 11.9483\n",
      "Epoch 20/100\n",
      "1/1 [==============================] - 0s 2ms/step - loss: 11.8577\n",
      "Epoch 21/100\n",
      "1/1 [==============================] - 0s 1ms/step - loss: 11.7678\n",
      "Epoch 22/100\n",
      "1/1 [==============================] - 0s 1ms/step - loss: 11.6783\n",
      "Epoch 23/100\n",
      "1/1 [==============================] - 0s 2ms/step - loss: 11.5891\n",
      "Epoch 24/100\n",
      "1/1 [==============================] - 0s 2ms/step - loss: 11.5163\n",
      "Epoch 25/100\n",
      "1/1 [==============================] - 0s 2ms/step - loss: 11.4484\n",
      "Epoch 26/100\n",
      "1/1 [==============================] - 0s 2ms/step - loss: 11.3806\n",
      "Epoch 27/100\n",
      "1/1 [==============================] - 0s 2ms/step - loss: 11.3128\n",
      "Epoch 28/100\n",
      "1/1 [==============================] - 0s 1ms/step - loss: 11.2450\n",
      "Epoch 29/100\n",
      "1/1 [==============================] - 0s 2ms/step - loss: 11.1792\n",
      "Epoch 30/100\n",
      "1/1 [==============================] - 0s 2ms/step - loss: 11.1133\n",
      "Epoch 31/100\n",
      "1/1 [==============================] - 0s 1ms/step - loss: 11.0455\n",
      "Epoch 32/100\n",
      "1/1 [==============================] - 0s 1ms/step - loss: 10.9776\n",
      "Epoch 33/100\n",
      "1/1 [==============================] - 0s 2ms/step - loss: 10.9096\n",
      "Epoch 34/100\n",
      "1/1 [==============================] - 0s 2ms/step - loss: 10.8415\n",
      "Epoch 35/100\n",
      "1/1 [==============================] - 0s 2ms/step - loss: 10.7733\n",
      "Epoch 36/100\n",
      "1/1 [==============================] - 0s 1ms/step - loss: 10.7053\n",
      "Epoch 37/100\n",
      "1/1 [==============================] - 0s 1ms/step - loss: 10.6413\n",
      "Epoch 38/100\n",
      "1/1 [==============================] - 0s 1ms/step - loss: 10.5727\n",
      "Epoch 39/100\n",
      "1/1 [==============================] - 0s 2ms/step - loss: 10.5040\n",
      "Epoch 40/100\n",
      "1/1 [==============================] - 0s 1ms/step - loss: 10.4351\n",
      "Epoch 41/100\n",
      "1/1 [==============================] - 0s 1ms/step - loss: 10.3660\n",
      "Epoch 42/100\n",
      "1/1 [==============================] - 0s 1ms/step - loss: 10.2968\n",
      "Epoch 43/100\n",
      "1/1 [==============================] - 0s 1ms/step - loss: 10.2273\n",
      "Epoch 44/100\n",
      "1/1 [==============================] - 0s 2ms/step - loss: 10.1632\n",
      "Epoch 45/100\n",
      "1/1 [==============================] - 0s 2ms/step - loss: 10.0938\n",
      "Epoch 46/100\n",
      "1/1 [==============================] - 0s 1ms/step - loss: 10.0239\n",
      "Epoch 47/100\n",
      "1/1 [==============================] - 0s 2ms/step - loss: 9.9539\n",
      "Epoch 48/100\n",
      "1/1 [==============================] - 0s 1ms/step - loss: 9.8835\n",
      "Epoch 49/100\n",
      "1/1 [==============================] - 0s 1ms/step - loss: 9.8130\n",
      "Epoch 50/100\n",
      "1/1 [==============================] - 0s 2ms/step - loss: 9.7422\n",
      "Epoch 51/100\n",
      "1/1 [==============================] - 0s 1ms/step - loss: 9.6752\n",
      "Epoch 52/100\n",
      "1/1 [==============================] - 0s 2ms/step - loss: 9.6063\n",
      "Epoch 53/100\n",
      "1/1 [==============================] - 0s 1ms/step - loss: 9.5350\n",
      "Epoch 54/100\n",
      "1/1 [==============================] - 0s 1ms/step - loss: 9.4635\n",
      "Epoch 55/100\n",
      "1/1 [==============================] - 0s 1ms/step - loss: 9.3917\n",
      "Epoch 56/100\n",
      "1/1 [==============================] - 0s 3ms/step - loss: 9.3196\n",
      "Epoch 57/100\n",
      "1/1 [==============================] - 0s 2ms/step - loss: 9.2472\n",
      "Epoch 58/100\n",
      "1/1 [==============================] - 0s 1ms/step - loss: 9.1772\n",
      "Epoch 59/100\n",
      "1/1 [==============================] - 0s 1ms/step - loss: 9.1083\n",
      "Epoch 60/100\n",
      "1/1 [==============================] - 0s 2ms/step - loss: 9.0354\n",
      "Epoch 61/100\n",
      "1/1 [==============================] - 0s 2ms/step - loss: 8.9621\n",
      "Epoch 62/100\n",
      "1/1 [==============================] - 0s 2ms/step - loss: 8.8886\n",
      "Epoch 63/100\n",
      "1/1 [==============================] - 0s 2ms/step - loss: 8.8148\n",
      "Epoch 64/100\n",
      "1/1 [==============================] - 0s 2ms/step - loss: 8.7408\n",
      "Epoch 65/100\n",
      "1/1 [==============================] - 0s 2ms/step - loss: 8.6673\n",
      "Epoch 66/100\n",
      "1/1 [==============================] - 0s 1ms/step - loss: 8.5986\n",
      "Epoch 67/100\n",
      "1/1 [==============================] - 0s 2ms/step - loss: 8.5239\n",
      "Epoch 68/100\n",
      "1/1 [==============================] - 0s 1ms/step - loss: 8.4489\n",
      "Epoch 69/100\n",
      "1/1 [==============================] - 0s 2ms/step - loss: 8.3735\n",
      "Epoch 70/100\n",
      "1/1 [==============================] - 0s 2ms/step - loss: 8.2978\n",
      "Epoch 71/100\n",
      "1/1 [==============================] - 0s 2ms/step - loss: 8.2217\n",
      "Epoch 72/100\n",
      "1/1 [==============================] - 0s 2ms/step - loss: 8.1452\n",
      "Epoch 73/100\n",
      "1/1 [==============================] - 0s 2ms/step - loss: 8.0764\n",
      "Epoch 74/100\n",
      "1/1 [==============================] - 0s 2ms/step - loss: 7.9984\n",
      "Epoch 75/100\n",
      "1/1 [==============================] - 0s 2ms/step - loss: 7.9214\n",
      "Epoch 76/100\n",
      "1/1 [==============================] - 0s 1ms/step - loss: 7.8438\n",
      "Epoch 77/100\n",
      "1/1 [==============================] - 0s 1ms/step - loss: 7.7659\n",
      "Epoch 78/100\n",
      "1/1 [==============================] - 0s 1ms/step - loss: 7.6877\n",
      "Epoch 79/100\n",
      "1/1 [==============================] - 0s 3ms/step - loss: 7.6090\n",
      "Epoch 80/100\n",
      "1/1 [==============================] - 0s 2ms/step - loss: 7.5368\n",
      "Epoch 81/100\n",
      "1/1 [==============================] - 0s 1ms/step - loss: 7.4581\n",
      "Epoch 82/100\n",
      "1/1 [==============================] - 0s 1ms/step - loss: 7.3790\n",
      "Epoch 83/100\n",
      "1/1 [==============================] - 0s 1ms/step - loss: 7.2996\n",
      "Epoch 84/100\n",
      "1/1 [==============================] - 0s 2ms/step - loss: 7.2197\n",
      "Epoch 85/100\n",
      "1/1 [==============================] - 0s 2ms/step - loss: 7.1394\n",
      "Epoch 86/100\n",
      "1/1 [==============================] - 0s 1ms/step - loss: 7.0588\n",
      "Epoch 87/100\n",
      "1/1 [==============================] - 0s 2ms/step - loss: 6.9833\n",
      "Epoch 88/100\n",
      "1/1 [==============================] - 0s 2ms/step - loss: 6.9039\n",
      "Epoch 89/100\n",
      "1/1 [==============================] - 0s 2ms/step - loss: 6.8228\n",
      "Epoch 90/100\n",
      "1/1 [==============================] - 0s 2ms/step - loss: 6.7414\n",
      "Epoch 91/100\n",
      "1/1 [==============================] - 0s 1ms/step - loss: 6.6596\n",
      "Epoch 92/100\n",
      "1/1 [==============================] - 0s 1ms/step - loss: 6.5776\n",
      "Epoch 93/100\n",
      "1/1 [==============================] - 0s 1ms/step - loss: 6.4953\n",
      "Epoch 94/100\n",
      "1/1 [==============================] - 0s 1ms/step - loss: 6.4171\n",
      "Epoch 95/100\n",
      "1/1 [==============================] - 0s 1ms/step - loss: 6.3370\n",
      "Epoch 96/100\n",
      "1/1 [==============================] - 0s 2ms/step - loss: 6.2540\n",
      "Epoch 97/100\n",
      "1/1 [==============================] - 0s 1ms/step - loss: 6.1707\n",
      "Epoch 98/100\n",
      "1/1 [==============================] - 0s 1ms/step - loss: 6.0869\n",
      "Epoch 99/100\n",
      "1/1 [==============================] - 0s 1ms/step - loss: 6.0028\n",
      "Epoch 100/100\n",
      "1/1 [==============================] - 0s 2ms/step - loss: 5.9183\n"
     ]
    },
    {
     "data": {
      "text/plain": [
       "<keras.src.callbacks.History at 0x17d216830>"
      ]
     },
     "execution_count": 18,
     "metadata": {},
     "output_type": "execute_result"
    }
   ],
   "source": [
    "##improve model\n",
    "\n",
    "#create the model(extra hidden layer with 100 hidden units)\n",
    "model = tf.keras.Sequential([\n",
    "    tf.keras.layers.Dense(100, activation=\"relu\", input_shape=[1]),\n",
    "    tf.keras.layers.Dense(1, input_shape=[1])\n",
    "])\n",
    "\n",
    "#compile the model\n",
    "model.compile(loss=\"mae\"),\n",
    "optimizer = tf.keras.optimizers.SGD(),\n",
    "metrics = [\"mae\"]\n",
    "\n",
    "#fit the model\n",
    "model.fit(x, y, epochs=100)"
   ]
  },
  {
   "cell_type": "code",
   "execution_count": 19,
   "metadata": {},
   "outputs": [
    {
     "data": {
      "text/plain": [
       "(array([-7., -4., -1.,  2.,  5.,  8., 11., 14.]),\n",
       " array([ 3.,  6.,  9., 12., 15., 18., 21., 24.]))"
      ]
     },
     "execution_count": 19,
     "metadata": {},
     "output_type": "execute_result"
    }
   ],
   "source": [
    "#remind ourselves of the data\n",
    "x, y"
   ]
  },
  {
   "cell_type": "code",
   "execution_count": 20,
   "metadata": {},
   "outputs": [
    {
     "name": "stdout",
     "output_type": "stream",
     "text": [
      "1/1 [==============================] - 0s 42ms/step\n"
     ]
    },
    {
     "data": {
      "text/plain": [
       "array([[22.631716]], dtype=float32)"
      ]
     },
     "execution_count": 20,
     "metadata": {},
     "output_type": "execute_result"
    }
   ],
   "source": [
    "#make s prediction\n",
    "model.predict([17.0])"
   ]
  },
  {
   "cell_type": "code",
   "execution_count": 21,
   "metadata": {},
   "outputs": [
    {
     "data": {
      "text/plain": [
       "<tf.Tensor: shape=(50,), dtype=int32, numpy=\n",
       "array([-100,  -96,  -92,  -88,  -84,  -80,  -76,  -72,  -68,  -64,  -60,\n",
       "        -56,  -52,  -48,  -44,  -40,  -36,  -32,  -28,  -24,  -20,  -16,\n",
       "        -12,   -8,   -4,    0,    4,    8,   12,   16,   20,   24,   28,\n",
       "         32,   36,   40,   44,   48,   52,   56,   60,   64,   68,   72,\n",
       "         76,   80,   84,   88,   92,   96], dtype=int32)>"
      ]
     },
     "execution_count": 21,
     "metadata": {},
     "output_type": "execute_result"
    }
   ],
   "source": [
    "##evaluate model\n",
    "\n",
    "#make a bigger dataset\n",
    "x = tf.range(-100, 100, 4)\n",
    "x\n"
   ]
  },
  {
   "cell_type": "code",
   "execution_count": 22,
   "metadata": {},
   "outputs": [
    {
     "data": {
      "text/plain": [
       "<tf.Tensor: shape=(50,), dtype=int32, numpy=\n",
       "array([-90, -86, -82, -78, -74, -70, -66, -62, -58, -54, -50, -46, -42,\n",
       "       -38, -34, -30, -26, -22, -18, -14, -10,  -6,  -2,   2,   6,  10,\n",
       "        14,  18,  22,  26,  30,  34,  38,  42,  46,  50,  54,  58,  62,\n",
       "        66,  70,  74,  78,  82,  86,  90,  94,  98, 102, 106], dtype=int32)>"
      ]
     },
     "execution_count": 22,
     "metadata": {},
     "output_type": "execute_result"
    }
   ],
   "source": [
    "#make labels for the dataset\n",
    "y = x + 10\n",
    "y"
   ]
  },
  {
   "cell_type": "code",
   "execution_count": 23,
   "metadata": {},
   "outputs": [
    {
     "data": {
      "text/plain": [
       "<matplotlib.collections.PathCollection at 0x17d2b36d0>"
      ]
     },
     "execution_count": 23,
     "metadata": {},
     "output_type": "execute_result"
    },
    {
     "data": {
      "image/png": "[encoded data removed]",
      "text/plain": [
       "<Figure size 432x288 with 1 Axes>"
      ]
     },
     "metadata": {
      "needs_background": "light"
     },
     "output_type": "display_data"
    }
   ],
   "source": [
    "#visualize the data\n",
    "plt.scatter(x, y)"
   ]
  },
  {
   "cell_type": "markdown",
   "metadata": {},
   "source": [
    "The 3 sets...\n",
    "Training set\n",
    "Validation set\n",
    "Test set"
   ]
  },
  {
   "cell_type": "code",
   "execution_count": 24,
   "metadata": {},
   "outputs": [
    {
     "data": {
      "text/plain": [
       "50"
      ]
     },
     "execution_count": 24,
     "metadata": {},
     "output_type": "execute_result"
    }
   ],
   "source": [
    "#check the lenght of how many samples we have\n",
    "len(x)"
   ]
  },
  {
   "cell_type": "code",
   "execution_count": 25,
   "metadata": {},
   "outputs": [
    {
     "data": {
      "text/plain": [
       "(40, 10, 40, 10)"
      ]
     },
     "execution_count": 25,
     "metadata": {},
     "output_type": "execute_result"
    }
   ],
   "source": [
    "#split the data into train and test sets\n",
    "x_train = x[:40] #first 40 are training samples (80% of the data)\n",
    "y_train = y[:40]\n",
    "\n",
    "x_test = x[40:] #last 10 are testing samples (20% of the data)\n",
    "y_test = y[40:]\n",
    "\n",
    "len(x_train), len(x_test), len(y_train), len(y_test)"
   ]
  },
  {
   "cell_type": "code",
   "execution_count": 26,
   "metadata": {},
   "outputs": [
    {
     "data": {
      "text/plain": [
       "<matplotlib.legend.Legend at 0x17dc68190>"
      ]
     },
     "execution_count": 26,
     "metadata": {},
     "output_type": "execute_result"
    },
    {
     "data": {
      "image/png": "[encoded data removed]",
      "text/plain": [
       "<Figure size 720x504 with 1 Axes>"
      ]
     },
     "metadata": {
      "needs_background": "light"
     },
     "output_type": "display_data"
    }
   ],
   "source": [
    "##visualize the data\n",
    "plt.figure(figsize=(10,7))\n",
    "#plot training data in blue\n",
    "plt.scatter(x_train, y_train, c=\"b\", label=\"Training data\")\n",
    "#plot test data in green \n",
    "plt.scatter(x_test, y_test, c=\"g\", label=\"Testing data\")\n",
    "#show a legend\n",
    "plt.legend()"
   ]
  },
  {
   "cell_type": "code",
   "execution_count": 27,
   "metadata": {},
   "outputs": [
    {
     "name": "stdout",
     "output_type": "stream",
     "text": [
      "Model: \"sequential_2\"\n",
      "_________________________________________________________________\n",
      " Layer (type)                Output Shape              Param #   \n",
      "=================================================================\n",
      " dense_2 (Dense)             (None, 100)               200       \n",
      "                                                                 \n",
      " dense_3 (Dense)             (None, 1)                 101       \n",
      "                                                                 \n",
      "=================================================================\n",
      "Total params: 301 (1.18 KB)\n",
      "Trainable params: 301 (1.18 KB)\n",
      "Non-trainable params: 0 (0.00 Byte)\n",
      "_________________________________________________________________\n"
     ]
    }
   ],
   "source": [
    "model.summary()"
   ]
  },
  {
   "cell_type": "code",
   "execution_count": 28,
   "metadata": {},
   "outputs": [
    {
     "data": {
      "text/plain": [
       "<keras.src.callbacks.History at 0x17d0075e0>"
      ]
     },
     "execution_count": 28,
     "metadata": {},
     "output_type": "execute_result"
    }
   ],
   "source": [
    "#fit model to the training data\n",
    "model.fit(x_train, y_train, epochs=100, verbose=0)"
   ]
  },
  {
   "cell_type": "code",
   "execution_count": 29,
   "metadata": {},
   "outputs": [
    {
     "data": {
      "image/png": "[encoded data removed]",
      "text/plain": [
       "<IPython.core.display.Image object>"
      ]
     },
     "execution_count": 29,
     "metadata": {},
     "output_type": "execute_result"
    }
   ],
   "source": [
    "from tensorflow.keras.utils import plot_model\n",
    "\n",
    "plot_model(model=model, show_shapes=True)"
   ]
  },
  {
   "cell_type": "code",
   "execution_count": 30,
   "metadata": {},
   "outputs": [
    {
     "name": "stdout",
     "output_type": "stream",
     "text": [
      "1/1 [==============================] - 0s 22ms/step\n"
     ]
    },
    {
     "data": {
      "text/plain": [
       "array([[ 72.199814],\n",
       "       [ 76.87536 ],\n",
       "       [ 81.55092 ],\n",
       "       [ 86.226456],\n",
       "       [ 90.90201 ],\n",
       "       [ 95.57756 ],\n",
       "       [100.2531  ],\n",
       "       [104.92865 ],\n",
       "       [109.6042  ],\n",
       "       [114.27975 ]], dtype=float32)"
      ]
     },
     "execution_count": 30,
     "metadata": {},
     "output_type": "execute_result"
    }
   ],
   "source": [
    "#make some predictions\n",
    "y_pred = model.predict(x_test)\n",
    "y_pred"
   ]
  },
  {
   "cell_type": "code",
   "execution_count": 31,
   "metadata": {},
   "outputs": [
    {
     "data": {
      "image/png": "[encoded data removed]",
      "text/plain": [
       "<Figure size 720x504 with 1 Axes>"
      ]
     },
     "metadata": {
      "needs_background": "light"
     },
     "output_type": "display_data"
    }
   ],
   "source": [
    "#create a plotting function\n",
    "def plot_predictions(train_data= x_train,\n",
    "                    train_labels=y_train,\n",
    "                    test_data=x_test,\n",
    "                    test_labels=y_test,\n",
    "                    predictions=y_pred):\n",
    "\n",
    "    plt.figure(figsize=(10,7))\n",
    "    #plot training data in blue\n",
    "    plt.scatter(train_data, train_labels, c=\"b\", label=\"Training data\")\n",
    "    #plot testing data in green\n",
    "    plt.scatter(test_data, predictions, c=\"g\", label=\"Predictions\")\n",
    "    #plot model's predictions in red\n",
    "    plt.scatter(test_data, test_labels, c=\"r\", label=\"Testing data\")\n",
    "    #show the legend\n",
    "    plt.legend()\n",
    "plot_predictions()"
   ]
  },
  {
   "cell_type": "code",
   "execution_count": 32,
   "metadata": {},
   "outputs": [
    {
     "name": "stdout",
     "output_type": "stream",
     "text": [
      "1/1 [==============================] - 0s 60ms/step - loss: 5.2398\n"
     ]
    },
    {
     "data": {
      "text/plain": [
       "5.239777565002441"
      ]
     },
     "execution_count": 32,
     "metadata": {},
     "output_type": "execute_result"
    }
   ],
   "source": [
    "#evaluate the model on the best\n",
    "model.evaluate(x_test, y_test)"
   ]
  },
  {
   "cell_type": "code",
   "execution_count": 33,
   "metadata": {},
   "outputs": [
    {
     "data": {
      "text/plain": [
       "<tf.Tensor: shape=(10,), dtype=float32, numpy=\n",
       "array([16.240149, 13.074785, 10.979632, 10.      , 10.180402, 11.431025,\n",
       "       13.751859, 17.14292 , 21.604202, 26.279749], dtype=float32)>"
      ]
     },
     "execution_count": 33,
     "metadata": {},
     "output_type": "execute_result"
    }
   ],
   "source": [
    "#calculate the mean absolute error\n",
    "mae = tf.metrics.mean_absolute_error(y_true=y_test, y_pred=y_pred)\n",
    "mae"
   ]
  },
  {
   "cell_type": "code",
   "execution_count": 34,
   "metadata": {},
   "outputs": [
    {
     "data": {
      "text/plain": [
       "<tf.Tensor: shape=(10, 1), dtype=float32, numpy=\n",
       "array([[ 72.199814],\n",
       "       [ 76.87536 ],\n",
       "       [ 81.55092 ],\n",
       "       [ 86.226456],\n",
       "       [ 90.90201 ],\n",
       "       [ 95.57756 ],\n",
       "       [100.2531  ],\n",
       "       [104.92865 ],\n",
       "       [109.6042  ],\n",
       "       [114.27975 ]], dtype=float32)>"
      ]
     },
     "execution_count": 34,
     "metadata": {},
     "output_type": "execute_result"
    }
   ],
   "source": [
    "tf.constant(y_pred) "
   ]
  },
  {
   "cell_type": "code",
   "execution_count": 35,
   "metadata": {},
   "outputs": [
    {
     "data": {
      "text/plain": [
       "<tf.Tensor: shape=(10,), dtype=int32, numpy=array([ 70,  74,  78,  82,  86,  90,  94,  98, 102, 106], dtype=int32)>"
      ]
     },
     "execution_count": 35,
     "metadata": {},
     "output_type": "execute_result"
    }
   ],
   "source": [
    "y_test"
   ]
  },
  {
   "cell_type": "code",
   "execution_count": 36,
   "metadata": {},
   "outputs": [
    {
     "data": {
      "text/plain": [
       "<tf.Tensor: shape=(10,), dtype=float32, numpy=\n",
       "array([ 72.199814,  76.87536 ,  81.55092 ,  86.226456,  90.90201 ,\n",
       "        95.57756 , 100.2531  , 104.92865 , 109.6042  , 114.27975 ],\n",
       "      dtype=float32)>"
      ]
     },
     "execution_count": 36,
     "metadata": {},
     "output_type": "execute_result"
    }
   ],
   "source": [
    "tf.squeeze(y_pred)"
   ]
  },
  {
   "cell_type": "code",
   "execution_count": 37,
   "metadata": {},
   "outputs": [
    {
     "data": {
      "text/plain": [
       "<tf.Tensor: shape=(), dtype=float32, numpy=5.2397814>"
      ]
     },
     "execution_count": 37,
     "metadata": {},
     "output_type": "execute_result"
    }
   ],
   "source": [
    "#calculate the mean absolute error\n",
    "mae = tf.metrics.mean_absolute_error(y_true=y_test, y_pred=tf.squeeze(y_pred))\n",
    "mae"
   ]
  },
  {
   "cell_type": "code",
   "execution_count": 38,
   "metadata": {},
   "outputs": [
    {
     "data": {
      "text/plain": [
       "<tf.Tensor: shape=(), dtype=float32, numpy=31.220318>"
      ]
     },
     "execution_count": 38,
     "metadata": {},
     "output_type": "execute_result"
    }
   ],
   "source": [
    "#calculate the mean square error\n",
    "mse = tf.metrics.mean_squared_error(y_true=y_test, y_pred=tf.squeeze(y_pred))\n",
    "mse"
   ]
  },
  {
   "cell_type": "code",
   "execution_count": 39,
   "metadata": {},
   "outputs": [],
   "source": [
    "#make some functions to reuse MAE and MSE\n",
    "def mae(y_true, y_pred):\n",
    "    return tf.metrics.mean_absolute_error(y_true=y_true, y_pred=tf.squeeze(y_pred))\n",
    "\n",
    "def mse(y_true, y_pred):\n",
    "    return tf.metrics.mean_squared_error(y_true=y_true, y_pred=tf.squeeze(y_pred))\n",
    "    "
   ]
  },
  {
   "cell_type": "markdown",
   "metadata": {},
   "source": [
    "3 modelling experiments:\n",
    "1. model_1 - same as the original model, 1 layer, trained for 100 epochs\n",
    "2. model_2 - 2 layers, trained for 100 epochs\n",
    "3. model_3 - 2 layers, trained for 500 epochs"
   ]
  },
  {
   "cell_type": "code",
   "execution_count": 40,
   "metadata": {},
   "outputs": [
    {
     "name": "stderr",
     "output_type": "stream",
     "text": [
      "WARNING:absl:At this time, the v2.11+ optimizer `tf.keras.optimizers.SGD` runs slowly on M1/M2 Macs, please use the legacy Keras optimizer instead, located at `tf.keras.optimizers.legacy.SGD`.\n"
     ]
    },
    {
     "name": "stdout",
     "output_type": "stream",
     "text": [
      "Epoch 1/100\n",
      "2/2 [==============================] - 0s 3ms/step - loss: 84.3767 - mae: 84.3767\n",
      "Epoch 2/100\n",
      "2/2 [==============================] - 0s 1ms/step - loss: 48.9212 - mae: 48.9212\n",
      "Epoch 3/100\n",
      "2/2 [==============================] - 0s 2ms/step - loss: 14.4103 - mae: 14.4103\n",
      "Epoch 4/100\n",
      "2/2 [==============================] - 0s 2ms/step - loss: 7.7793 - mae: 7.7793\n",
      "Epoch 5/100\n",
      "2/2 [==============================] - 0s 7ms/step - loss: 9.7889 - mae: 9.7889\n",
      "Epoch 6/100\n",
      "2/2 [==============================] - 0s 2ms/step - loss: 9.1098 - mae: 9.1098\n",
      "Epoch 7/100\n",
      "2/2 [==============================] - 0s 3ms/step - loss: 9.5208 - mae: 9.5208\n",
      "Epoch 8/100\n",
      "2/2 [==============================] - 0s 2ms/step - loss: 9.3818 - mae: 9.3818\n",
      "Epoch 9/100\n",
      "2/2 [==============================] - 0s 1ms/step - loss: 7.7464 - mae: 7.7464\n",
      "Epoch 10/100\n",
      "2/2 [==============================] - 0s 2ms/step - loss: 11.8075 - mae: 11.8075\n",
      "Epoch 11/100\n",
      "2/2 [==============================] - 0s 2ms/step - loss: 9.3862 - mae: 9.3862\n",
      "Epoch 12/100\n",
      "2/2 [==============================] - 0s 2ms/step - loss: 12.7793 - mae: 12.7793\n",
      "Epoch 13/100\n",
      "2/2 [==============================] - 0s 2ms/step - loss: 9.7716 - mae: 9.7716\n",
      "Epoch 14/100\n",
      "2/2 [==============================] - 0s 2ms/step - loss: 12.8867 - mae: 12.8867\n",
      "Epoch 15/100\n",
      "2/2 [==============================] - 0s 2ms/step - loss: 10.7192 - mae: 10.7192\n",
      "Epoch 16/100\n",
      "2/2 [==============================] - 0s 1ms/step - loss: 8.5830 - mae: 8.5830\n",
      "Epoch 17/100\n",
      "2/2 [==============================] - 0s 2ms/step - loss: 13.7124 - mae: 13.7124\n",
      "Epoch 18/100\n",
      "2/2 [==============================] - 0s 2ms/step - loss: 11.5543 - mae: 11.5543\n",
      "Epoch 19/100\n",
      "2/2 [==============================] - 0s 1ms/step - loss: 17.8467 - mae: 17.8467\n",
      "Epoch 20/100\n",
      "2/2 [==============================] - 0s 2ms/step - loss: 14.9818 - mae: 14.9818\n",
      "Epoch 21/100\n",
      "2/2 [==============================] - 0s 1ms/step - loss: 10.8656 - mae: 10.8656\n",
      "Epoch 22/100\n",
      "2/2 [==============================] - 0s 1ms/step - loss: 8.6175 - mae: 8.6175\n",
      "Epoch 23/100\n",
      "2/2 [==============================] - 0s 2ms/step - loss: 9.7293 - mae: 9.7293\n",
      "Epoch 24/100\n",
      "2/2 [==============================] - 0s 1ms/step - loss: 10.9766 - mae: 10.9766\n",
      "Epoch 25/100\n",
      "2/2 [==============================] - 0s 2ms/step - loss: 9.1821 - mae: 9.1821\n",
      "Epoch 26/100\n",
      "2/2 [==============================] - 0s 2ms/step - loss: 13.2141 - mae: 13.2141\n",
      "Epoch 27/100\n",
      "2/2 [==============================] - 0s 2ms/step - loss: 10.6867 - mae: 10.6867\n",
      "Epoch 28/100\n",
      "2/2 [==============================] - 0s 1ms/step - loss: 12.9079 - mae: 12.9079\n",
      "Epoch 29/100\n",
      "2/2 [==============================] - 0s 2ms/step - loss: 9.5306 - mae: 9.5306\n",
      "Epoch 30/100\n",
      "2/2 [==============================] - 0s 2ms/step - loss: 16.4304 - mae: 16.4304\n",
      "Epoch 31/100\n",
      "2/2 [==============================] - 0s 1ms/step - loss: 23.5770 - mae: 23.5770\n",
      "Epoch 32/100\n",
      "2/2 [==============================] - 0s 1ms/step - loss: 7.6291 - mae: 7.6291\n",
      "Epoch 33/100\n",
      "2/2 [==============================] - 0s 2ms/step - loss: 9.3253 - mae: 9.3253\n",
      "Epoch 34/100\n",
      "2/2 [==============================] - 0s 2ms/step - loss: 13.6936 - mae: 13.6936\n",
      "Epoch 35/100\n",
      "2/2 [==============================] - 0s 1ms/step - loss: 11.1764 - mae: 11.1764\n",
      "Epoch 36/100\n",
      "2/2 [==============================] - 0s 2ms/step - loss: 13.3968 - mae: 13.3968\n",
      "Epoch 37/100\n",
      "2/2 [==============================] - 0s 2ms/step - loss: 9.4709 - mae: 9.4709\n",
      "Epoch 38/100\n",
      "2/2 [==============================] - 0s 1ms/step - loss: 10.1234 - mae: 10.1234\n",
      "Epoch 39/100\n",
      "2/2 [==============================] - 0s 2ms/step - loss: 10.2286 - mae: 10.2286\n",
      "Epoch 40/100\n",
      "2/2 [==============================] - 0s 2ms/step - loss: 10.9720 - mae: 10.9720\n",
      "Epoch 41/100\n",
      "2/2 [==============================] - 0s 1ms/step - loss: 7.9494 - mae: 7.9494\n",
      "Epoch 42/100\n",
      "2/2 [==============================] - 0s 1ms/step - loss: 10.6013 - mae: 10.6013\n",
      "Epoch 43/100\n",
      "2/2 [==============================] - 0s 2ms/step - loss: 7.2316 - mae: 7.2316\n",
      "Epoch 44/100\n",
      "2/2 [==============================] - 0s 2ms/step - loss: 8.0145 - mae: 8.0145\n",
      "Epoch 45/100\n",
      "2/2 [==============================] - 0s 1ms/step - loss: 9.8081 - mae: 9.8081\n",
      "Epoch 46/100\n",
      "2/2 [==============================] - 0s 2ms/step - loss: 8.8831 - mae: 8.8831\n",
      "Epoch 47/100\n",
      "2/2 [==============================] - 0s 1ms/step - loss: 7.5948 - mae: 7.5948\n",
      "Epoch 48/100\n",
      "2/2 [==============================] - 0s 2ms/step - loss: 8.5972 - mae: 8.5972\n",
      "Epoch 49/100\n",
      "2/2 [==============================] - 0s 2ms/step - loss: 10.0130 - mae: 10.0130\n",
      "Epoch 50/100\n",
      "2/2 [==============================] - 0s 2ms/step - loss: 9.0491 - mae: 9.0491\n",
      "Epoch 51/100\n",
      "2/2 [==============================] - 0s 2ms/step - loss: 10.6819 - mae: 10.6819\n",
      "Epoch 52/100\n",
      "2/2 [==============================] - 0s 2ms/step - loss: 15.3188 - mae: 15.3188\n",
      "Epoch 53/100\n",
      "2/2 [==============================] - 0s 2ms/step - loss: 14.3366 - mae: 14.3366\n",
      "Epoch 54/100\n",
      "2/2 [==============================] - 0s 1ms/step - loss: 21.6341 - mae: 21.6341\n",
      "Epoch 55/100\n",
      "2/2 [==============================] - 0s 2ms/step - loss: 15.9917 - mae: 15.9917\n",
      "Epoch 56/100\n",
      "2/2 [==============================] - 0s 2ms/step - loss: 10.3107 - mae: 10.3107\n",
      "Epoch 57/100\n",
      "2/2 [==============================] - 0s 2ms/step - loss: 9.7826 - mae: 9.7826\n",
      "Epoch 58/100\n",
      "2/2 [==============================] - 0s 1ms/step - loss: 9.0698 - mae: 9.0698\n",
      "Epoch 59/100\n",
      "2/2 [==============================] - 0s 2ms/step - loss: 8.2717 - mae: 8.2717\n",
      "Epoch 60/100\n",
      "2/2 [==============================] - 0s 2ms/step - loss: 9.3719 - mae: 9.3719\n",
      "Epoch 61/100\n",
      "2/2 [==============================] - 0s 2ms/step - loss: 11.1780 - mae: 11.1780\n",
      "Epoch 62/100\n",
      "2/2 [==============================] - 0s 2ms/step - loss: 12.1001 - mae: 12.1001\n",
      "Epoch 63/100\n",
      "2/2 [==============================] - 0s 2ms/step - loss: 7.2873 - mae: 7.2873\n",
      "Epoch 64/100\n",
      "2/2 [==============================] - 0s 2ms/step - loss: 12.4382 - mae: 12.4382\n",
      "Epoch 65/100\n",
      "2/2 [==============================] - 0s 1ms/step - loss: 10.5139 - mae: 10.5139\n",
      "Epoch 66/100\n",
      "2/2 [==============================] - 0s 2ms/step - loss: 15.6317 - mae: 15.6317\n",
      "Epoch 67/100\n",
      "2/2 [==============================] - 0s 6ms/step - loss: 10.0343 - mae: 10.0343\n",
      "Epoch 68/100\n",
      "2/2 [==============================] - 0s 2ms/step - loss: 8.7431 - mae: 8.7431\n",
      "Epoch 69/100\n",
      "2/2 [==============================] - 0s 3ms/step - loss: 13.5102 - mae: 13.5102\n",
      "Epoch 70/100\n",
      "2/2 [==============================] - 0s 3ms/step - loss: 7.4893 - mae: 7.4893\n",
      "Epoch 71/100\n",
      "2/2 [==============================] - 0s 3ms/step - loss: 12.2408 - mae: 12.2408\n",
      "Epoch 72/100\n",
      "2/2 [==============================] - 0s 2ms/step - loss: 8.5551 - mae: 8.5551\n",
      "Epoch 73/100\n",
      "2/2 [==============================] - 0s 1ms/step - loss: 7.0595 - mae: 7.0595\n",
      "Epoch 74/100\n",
      "2/2 [==============================] - 0s 2ms/step - loss: 9.9542 - mae: 9.9542\n",
      "Epoch 75/100\n",
      "2/2 [==============================] - 0s 1ms/step - loss: 9.9524 - mae: 9.9524\n",
      "Epoch 76/100\n",
      "2/2 [==============================] - 0s 2ms/step - loss: 10.1198 - mae: 10.1198\n",
      "Epoch 77/100\n",
      "2/2 [==============================] - 0s 1ms/step - loss: 12.9609 - mae: 12.9609\n",
      "Epoch 78/100\n",
      "2/2 [==============================] - 0s 1ms/step - loss: 11.1688 - mae: 11.1688\n",
      "Epoch 79/100\n",
      "2/2 [==============================] - 0s 1ms/step - loss: 14.7220 - mae: 14.7220\n",
      "Epoch 80/100\n",
      "2/2 [==============================] - 0s 1ms/step - loss: 8.9407 - mae: 8.9407\n",
      "Epoch 81/100\n",
      "2/2 [==============================] - 0s 2ms/step - loss: 10.7824 - mae: 10.7824\n",
      "Epoch 82/100\n",
      "2/2 [==============================] - 0s 1ms/step - loss: 8.4123 - mae: 8.4123\n",
      "Epoch 83/100\n",
      "2/2 [==============================] - 0s 2ms/step - loss: 9.2389 - mae: 9.2389\n",
      "Epoch 84/100\n",
      "2/2 [==============================] - 0s 1ms/step - loss: 8.9601 - mae: 8.9601\n",
      "Epoch 85/100\n",
      "2/2 [==============================] - 0s 2ms/step - loss: 13.1995 - mae: 13.1995\n",
      "Epoch 86/100\n",
      "2/2 [==============================] - 0s 1ms/step - loss: 13.7223 - mae: 13.7223\n",
      "Epoch 87/100\n",
      "2/2 [==============================] - 0s 2ms/step - loss: 13.2071 - mae: 13.2071\n",
      "Epoch 88/100\n",
      "2/2 [==============================] - 0s 2ms/step - loss: 11.5351 - mae: 11.5351\n",
      "Epoch 89/100\n",
      "2/2 [==============================] - 0s 1ms/step - loss: 7.8243 - mae: 7.8243\n",
      "Epoch 90/100\n",
      "2/2 [==============================] - 0s 2ms/step - loss: 10.9514 - mae: 10.9514\n",
      "Epoch 91/100\n",
      "2/2 [==============================] - 0s 1ms/step - loss: 6.7693 - mae: 6.7693\n",
      "Epoch 92/100\n",
      "2/2 [==============================] - 0s 1ms/step - loss: 10.1442 - mae: 10.1442\n",
      "Epoch 93/100\n",
      "2/2 [==============================] - 0s 1ms/step - loss: 7.6233 - mae: 7.6233\n",
      "Epoch 94/100\n",
      "2/2 [==============================] - 0s 2ms/step - loss: 9.2563 - mae: 9.2563\n",
      "Epoch 95/100\n",
      "2/2 [==============================] - 0s 2ms/step - loss: 10.8439 - mae: 10.8439\n",
      "Epoch 96/100\n",
      "2/2 [==============================] - 0s 2ms/step - loss: 10.3147 - mae: 10.3147\n",
      "Epoch 97/100\n",
      "2/2 [==============================] - 0s 2ms/step - loss: 7.6942 - mae: 7.6942\n",
      "Epoch 98/100\n",
      "2/2 [==============================] - 0s 3ms/step - loss: 8.6307 - mae: 8.6307\n",
      "Epoch 99/100\n",
      "2/2 [==============================] - 0s 2ms/step - loss: 9.4094 - mae: 9.4094\n",
      "Epoch 100/100\n",
      "2/2 [==============================] - 0s 1ms/step - loss: 8.8555 - mae: 8.8555\n"
     ]
    },
    {
     "data": {
      "text/plain": [
       "<keras.src.callbacks.History at 0x175c66470>"
      ]
     },
     "execution_count": 40,
     "metadata": {},
     "output_type": "execute_result"
    }
   ],
   "source": [
    "#model_1\n",
    "\n",
    "#set random seed \n",
    "tf.random.set_seed(42)\n",
    "\n",
    "#create the model\n",
    "model_1 = tf.keras.Sequential([\n",
    "    tf.keras.layers.Dense(1, input_shape=[1])\n",
    "])\n",
    "\n",
    "\n",
    "#compile the model \n",
    "model_1.compile(loss=tf.keras.losses.mae,\n",
    "                optimizer=tf.keras.optimizers.SGD(),\n",
    "                metrics=[\"mae\"])\n",
    "\n",
    "\n",
    "#fit the model\n",
    "model_1.fit(x_train, y_train, epochs=100)"
   ]
  },
  {
   "cell_type": "code",
   "execution_count": 41,
   "metadata": {},
   "outputs": [
    {
     "name": "stdout",
     "output_type": "stream",
     "text": [
      "1/1 [==============================] - 0s 19ms/step\n"
     ]
    },
    {
     "data": {
      "image/png": "[encoded data removed]",
      "text/plain": [
       "<Figure size 720x504 with 1 Axes>"
      ]
     },
     "metadata": {
      "needs_background": "light"
     },
     "output_type": "display_data"
    }
   ],
   "source": [
    "#make and plot predictions for model_1\n",
    "y_preds_1 = model_1.predict(x_test)\n",
    "plot_predictions(predictions=y_preds_1)"
   ]
  },
  {
   "cell_type": "code",
   "execution_count": 42,
   "metadata": {},
   "outputs": [
    {
     "data": {
      "text/plain": [
       "(<tf.Tensor: shape=(10, 1), dtype=float32, numpy=\n",
       " array([[ 74.57081 ],\n",
       "        [ 79.45719 ],\n",
       "        [ 84.343575],\n",
       "        [ 89.229965],\n",
       "        [ 94.116356],\n",
       "        [ 99.00274 ],\n",
       "        [103.88912 ],\n",
       "        [108.77551 ],\n",
       "        [113.6619  ],\n",
       "        [118.54829 ]], dtype=float32)>,\n",
       " <tf.Tensor: shape=(10,), dtype=float32, numpy=\n",
       " array([ 74.57081 ,  79.45719 ,  84.343575,  89.229965,  94.116356,\n",
       "         99.00274 , 103.88912 , 108.77551 , 113.6619  , 118.54829 ],\n",
       "       dtype=float32)>)"
      ]
     },
     "execution_count": 42,
     "metadata": {},
     "output_type": "execute_result"
    }
   ],
   "source": [
    "tf.constant(y_preds_1), tf.squeeze(y_preds_1)"
   ]
  },
  {
   "cell_type": "code",
   "execution_count": 43,
   "metadata": {},
   "outputs": [
    {
     "data": {
      "text/plain": [
       "(<tf.Tensor: shape=(), dtype=float32, numpy=8.5595455>,\n",
       " <tf.Tensor: shape=(), dtype=float32, numpy=79.747696>)"
      ]
     },
     "execution_count": 43,
     "metadata": {},
     "output_type": "execute_result"
    }
   ],
   "source": [
    "#calculate model_1 evaluation metrics\n",
    "mae_1 = mae(y_test, y_preds_1)\n",
    "mse_1 = mse(y_test, y_preds_1)\n",
    "mae_1, mse_1"
   ]
  },
  {
   "cell_type": "code",
   "execution_count": 44,
   "metadata": {},
   "outputs": [
    {
     "name": "stderr",
     "output_type": "stream",
     "text": [
      "WARNING:absl:At this time, the v2.11+ optimizer `tf.keras.optimizers.SGD` runs slowly on M1/M2 Macs, please use the legacy Keras optimizer instead, located at `tf.keras.optimizers.legacy.SGD`.\n"
     ]
    },
    {
     "name": "stdout",
     "output_type": "stream",
     "text": [
      "Epoch 1/100\n",
      "2/2 [==============================] - 0s 3ms/step - loss: 45.2926 - mse: 2958.9270\n",
      "Epoch 2/100\n",
      "2/2 [==============================] - 0s 2ms/step - loss: 34.0719 - mse: 1654.9554\n",
      "Epoch 3/100\n",
      "2/2 [==============================] - 0s 2ms/step - loss: 30.2403 - mse: 1367.6051\n",
      "Epoch 4/100\n",
      "2/2 [==============================] - 0s 2ms/step - loss: 16.2486 - mse: 391.2614\n",
      "Epoch 5/100\n",
      "2/2 [==============================] - 0s 2ms/step - loss: 22.1613 - mse: 717.9908\n",
      "Epoch 6/100\n",
      "2/2 [==============================] - 0s 2ms/step - loss: 11.5831 - mse: 153.1204\n",
      "Epoch 7/100\n",
      "2/2 [==============================] - 0s 2ms/step - loss: 12.6810 - mse: 214.9095\n",
      "Epoch 8/100\n",
      "2/2 [==============================] - 0s 2ms/step - loss: 11.1125 - mse: 151.6979\n",
      "Epoch 9/100\n",
      "2/2 [==============================] - 0s 1ms/step - loss: 40.1759 - mse: 2534.9966\n",
      "Epoch 10/100\n",
      "2/2 [==============================] - 0s 1ms/step - loss: 27.6066 - mse: 1072.9963\n",
      "Epoch 11/100\n",
      "2/2 [==============================] - 0s 2ms/step - loss: 10.2630 - mse: 147.2986\n",
      "Epoch 12/100\n",
      "2/2 [==============================] - 0s 1ms/step - loss: 25.4510 - mse: 902.1193\n",
      "Epoch 13/100\n",
      "2/2 [==============================] - 0s 1ms/step - loss: 16.8835 - mse: 393.6332\n",
      "Epoch 14/100\n",
      "2/2 [==============================] - 0s 1ms/step - loss: 25.7211 - mse: 1031.4288\n",
      "Epoch 15/100\n",
      "2/2 [==============================] - 0s 2ms/step - loss: 17.5824 - mse: 427.8324\n",
      "Epoch 16/100\n",
      "2/2 [==============================] - 0s 2ms/step - loss: 10.0538 - mse: 124.4824\n",
      "Epoch 17/100\n",
      "2/2 [==============================] - 0s 2ms/step - loss: 18.5942 - mse: 462.1526\n",
      "Epoch 18/100\n",
      "2/2 [==============================] - 0s 1ms/step - loss: 11.7505 - mse: 210.8499\n",
      "Epoch 19/100\n",
      "2/2 [==============================] - 0s 1ms/step - loss: 16.4060 - mse: 431.8087\n",
      "Epoch 20/100\n",
      "2/2 [==============================] - 0s 2ms/step - loss: 8.2516 - mse: 93.4886\n",
      "Epoch 21/100\n",
      "2/2 [==============================] - 0s 2ms/step - loss: 14.4533 - mse: 289.4406\n",
      "Epoch 22/100\n",
      "2/2 [==============================] - 0s 2ms/step - loss: 12.8705 - mse: 246.5813\n",
      "Epoch 23/100\n",
      "2/2 [==============================] - 0s 2ms/step - loss: 15.5054 - mse: 315.5830\n",
      "Epoch 24/100\n",
      "2/2 [==============================] - 0s 2ms/step - loss: 15.2961 - mse: 316.8401\n",
      "Epoch 25/100\n",
      "2/2 [==============================] - 0s 2ms/step - loss: 14.3609 - mse: 273.0927\n",
      "Epoch 26/100\n",
      "2/2 [==============================] - 0s 1ms/step - loss: 19.3824 - mse: 569.9906\n",
      "Epoch 27/100\n",
      "2/2 [==============================] - 0s 2ms/step - loss: 11.4380 - mse: 167.5911\n",
      "Epoch 28/100\n",
      "2/2 [==============================] - 0s 2ms/step - loss: 28.9757 - mse: 1364.1980\n",
      "Epoch 29/100\n",
      "2/2 [==============================] - 0s 2ms/step - loss: 9.2545 - mse: 94.9095\n",
      "Epoch 30/100\n",
      "2/2 [==============================] - 0s 1ms/step - loss: 29.7344 - mse: 1598.6405\n",
      "Epoch 31/100\n",
      "2/2 [==============================] - 0s 2ms/step - loss: 53.9404 - mse: 5211.7168\n",
      "Epoch 32/100\n",
      "2/2 [==============================] - 0s 1ms/step - loss: 9.5502 - mse: 101.0181\n",
      "Epoch 33/100\n",
      "2/2 [==============================] - 0s 1ms/step - loss: 12.1376 - mse: 179.2599\n",
      "Epoch 34/100\n",
      "2/2 [==============================] - 0s 2ms/step - loss: 23.7743 - mse: 855.9251\n",
      "Epoch 35/100\n",
      "2/2 [==============================] - 0s 2ms/step - loss: 12.6448 - mse: 241.9655\n",
      "Epoch 36/100\n",
      "2/2 [==============================] - 0s 2ms/step - loss: 21.5810 - mse: 664.1991\n",
      "Epoch 37/100\n",
      "2/2 [==============================] - 0s 1ms/step - loss: 11.3403 - mse: 149.2196\n",
      "Epoch 38/100\n",
      "2/2 [==============================] - 0s 2ms/step - loss: 13.3927 - mse: 265.5246\n",
      "Epoch 39/100\n",
      "2/2 [==============================] - 0s 1ms/step - loss: 10.7573 - mse: 137.4064\n",
      "Epoch 40/100\n",
      "2/2 [==============================] - 0s 1ms/step - loss: 16.4884 - mse: 394.8421\n",
      "Epoch 41/100\n",
      "2/2 [==============================] - 0s 1ms/step - loss: 10.9211 - mse: 180.1490\n",
      "Epoch 42/100\n",
      "2/2 [==============================] - 0s 2ms/step - loss: 9.2610 - mse: 115.7124\n",
      "Epoch 43/100\n",
      "2/2 [==============================] - 0s 2ms/step - loss: 9.5832 - mse: 111.7571\n",
      "Epoch 44/100\n",
      "2/2 [==============================] - 0s 1ms/step - loss: 27.8135 - mse: 1239.4906\n",
      "Epoch 45/100\n",
      "2/2 [==============================] - 0s 2ms/step - loss: 11.2404 - mse: 145.5487\n",
      "Epoch 46/100\n",
      "2/2 [==============================] - 0s 1ms/step - loss: 13.8011 - mse: 278.0817\n",
      "Epoch 47/100\n",
      "2/2 [==============================] - 0s 5ms/step - loss: 11.9449 - mse: 212.3100\n",
      "Epoch 48/100\n",
      "2/2 [==============================] - 0s 2ms/step - loss: 16.9937 - mse: 391.0946\n",
      "Epoch 49/100\n",
      "2/2 [==============================] - 0s 2ms/step - loss: 9.7530 - mse: 104.2657\n",
      "Epoch 50/100\n",
      "2/2 [==============================] - 0s 2ms/step - loss: 14.1250 - mse: 278.0194\n",
      "Epoch 51/100\n",
      "2/2 [==============================] - 0s 1ms/step - loss: 11.7224 - mse: 160.3648\n",
      "Epoch 52/100\n",
      "2/2 [==============================] - 0s 2ms/step - loss: 31.2624 - mse: 1696.9088\n",
      "Epoch 53/100\n",
      "2/2 [==============================] - 0s 1ms/step - loss: 14.6722 - mse: 318.3777\n",
      "Epoch 54/100\n",
      "2/2 [==============================] - 0s 2ms/step - loss: 24.5191 - mse: 903.8610\n",
      "Epoch 55/100\n",
      "2/2 [==============================] - 0s 2ms/step - loss: 23.7943 - mse: 850.7010\n",
      "Epoch 56/100\n",
      "2/2 [==============================] - 0s 1ms/step - loss: 11.0915 - mse: 171.1278\n",
      "Epoch 57/100\n",
      "2/2 [==============================] - 0s 1ms/step - loss: 13.0174 - mse: 209.5447\n",
      "Epoch 58/100\n",
      "2/2 [==============================] - 0s 1ms/step - loss: 9.7575 - mse: 105.1670\n",
      "Epoch 59/100\n",
      "2/2 [==============================] - 0s 1ms/step - loss: 13.1880 - mse: 242.5765\n",
      "Epoch 60/100\n",
      "2/2 [==============================] - 0s 1ms/step - loss: 10.8052 - mse: 136.8687\n",
      "Epoch 61/100\n",
      "2/2 [==============================] - 0s 1ms/step - loss: 13.3718 - mse: 235.8268\n",
      "Epoch 62/100\n",
      "2/2 [==============================] - 0s 2ms/step - loss: 17.2957 - mse: 455.9420\n",
      "Epoch 63/100\n",
      "2/2 [==============================] - 0s 1ms/step - loss: 9.1202 - mse: 87.6969\n",
      "Epoch 64/100\n",
      "2/2 [==============================] - 0s 2ms/step - loss: 17.9203 - mse: 465.7971\n",
      "Epoch 65/100\n",
      "2/2 [==============================] - 0s 2ms/step - loss: 10.6027 - mse: 137.5015\n",
      "Epoch 66/100\n",
      "2/2 [==============================] - 0s 2ms/step - loss: 21.4310 - mse: 679.0823\n",
      "Epoch 67/100\n",
      "2/2 [==============================] - 0s 2ms/step - loss: 10.6101 - mse: 131.8898\n",
      "Epoch 68/100\n",
      "2/2 [==============================] - 0s 2ms/step - loss: 14.8252 - mse: 333.8999\n",
      "Epoch 69/100\n",
      "2/2 [==============================] - 0s 1ms/step - loss: 10.7519 - mse: 133.6262\n",
      "Epoch 70/100\n",
      "2/2 [==============================] - 0s 2ms/step - loss: 12.8505 - mse: 210.3882\n",
      "Epoch 71/100\n",
      "2/2 [==============================] - 0s 2ms/step - loss: 13.2710 - mse: 239.8091\n",
      "Epoch 72/100\n",
      "2/2 [==============================] - 0s 2ms/step - loss: 20.0906 - mse: 574.2930\n",
      "Epoch 73/100\n",
      "2/2 [==============================] - 0s 1ms/step - loss: 9.7302 - mse: 150.2657\n",
      "Epoch 74/100\n",
      "2/2 [==============================] - 0s 2ms/step - loss: 27.3821 - mse: 1193.2432\n",
      "Epoch 75/100\n",
      "2/2 [==============================] - 0s 1ms/step - loss: 10.0028 - mse: 146.0089\n",
      "Epoch 76/100\n",
      "2/2 [==============================] - 0s 1ms/step - loss: 12.9189 - mse: 207.7456\n",
      "Epoch 77/100\n",
      "2/2 [==============================] - 0s 1ms/step - loss: 17.8918 - mse: 498.8965\n",
      "Epoch 78/100\n",
      "2/2 [==============================] - 0s 1ms/step - loss: 8.9566 - mse: 87.7334\n",
      "Epoch 79/100\n",
      "2/2 [==============================] - 0s 1ms/step - loss: 28.7255 - mse: 1303.1628\n",
      "Epoch 80/100\n",
      "2/2 [==============================] - 0s 2ms/step - loss: 31.0637 - mse: 1532.2937\n",
      "Epoch 81/100\n",
      "2/2 [==============================] - 0s 2ms/step - loss: 13.4157 - mse: 251.9113\n",
      "Epoch 82/100\n",
      "2/2 [==============================] - 0s 2ms/step - loss: 14.5099 - mse: 290.4831\n",
      "Epoch 83/100\n",
      "2/2 [==============================] - 0s 1ms/step - loss: 18.5255 - mse: 452.8560\n",
      "Epoch 84/100\n",
      "2/2 [==============================] - 0s 2ms/step - loss: 8.8060 - mse: 127.9917\n",
      "Epoch 85/100\n",
      "2/2 [==============================] - 0s 2ms/step - loss: 18.3970 - mse: 530.0226\n",
      "Epoch 86/100\n",
      "2/2 [==============================] - 0s 2ms/step - loss: 22.5937 - mse: 729.8900\n",
      "Epoch 87/100\n",
      "2/2 [==============================] - 0s 2ms/step - loss: 11.3710 - mse: 153.8989\n",
      "Epoch 88/100\n",
      "2/2 [==============================] - 0s 2ms/step - loss: 26.6252 - mse: 1012.6113\n",
      "Epoch 89/100\n",
      "2/2 [==============================] - 0s 1ms/step - loss: 9.6564 - mse: 129.5050\n",
      "Epoch 90/100\n",
      "2/2 [==============================] - 0s 2ms/step - loss: 18.7676 - mse: 504.9779\n",
      "Epoch 91/100\n",
      "2/2 [==============================] - 0s 2ms/step - loss: 10.4940 - mse: 164.3358\n",
      "Epoch 92/100\n",
      "2/2 [==============================] - 0s 1ms/step - loss: 17.9958 - mse: 443.0117\n",
      "Epoch 93/100\n",
      "2/2 [==============================] - 0s 3ms/step - loss: 6.5800 - mse: 61.8422\n",
      "Epoch 94/100\n",
      "2/2 [==============================] - 0s 6ms/step - loss: 11.1432 - mse: 153.1377\n",
      "Epoch 95/100\n",
      "2/2 [==============================] - 0s 3ms/step - loss: 24.3530 - mse: 889.7166\n",
      "Epoch 96/100\n",
      "2/2 [==============================] - 0s 1ms/step - loss: 10.7482 - mse: 173.1295\n",
      "Epoch 97/100\n",
      "2/2 [==============================] - 0s 1ms/step - loss: 15.3502 - mse: 356.8924\n",
      "Epoch 98/100\n",
      "2/2 [==============================] - 0s 1ms/step - loss: 8.2619 - mse: 111.6983\n",
      "Epoch 99/100\n",
      "2/2 [==============================] - 0s 2ms/step - loss: 16.5111 - mse: 382.8842\n",
      "Epoch 100/100\n",
      "2/2 [==============================] - 0s 1ms/step - loss: 14.2992 - mse: 294.9965\n"
     ]
    },
    {
     "data": {
      "text/plain": [
       "<keras.src.callbacks.History at 0x17e081c30>"
      ]
     },
     "execution_count": 44,
     "metadata": {},
     "output_type": "execute_result"
    }
   ],
   "source": [
    "#model_2\n",
    "\n",
    "#set random seed\n",
    "tf.random.set_seed(42)\n",
    "\n",
    "#create the model\n",
    "model_2 = tf.keras.Sequential([\n",
    "    tf.keras.layers.Dense(10, input_shape=[1]),\n",
    "    tf.keras.layers.Dense(1, input_shape=[1])\n",
    "])\n",
    "\n",
    "#compile the model\n",
    "model_2.compile(loss=tf.keras.losses.mae,\n",
    "                optimizer=tf.keras.optimizers.SGD(),\n",
    "                metrics=[\"mse\"])\n",
    "\n",
    "#fit the model\n",
    "model_2.fit(x_train, y_train, epochs=100)\n"
   ]
  },
  {
   "cell_type": "code",
   "execution_count": 45,
   "metadata": {},
   "outputs": [
    {
     "name": "stdout",
     "output_type": "stream",
     "text": [
      "WARNING:tensorflow:5 out of the last 5 calls to <function Model.make_predict_function.<locals>.predict_function at 0x17d06ac20> triggered tf.function retracing. Tracing is expensive and the excessive number of tracings could be due to (1) creating @tf.function repeatedly in a loop, (2) passing tensors with different shapes, (3) passing Python objects instead of tensors. For (1), please define your @tf.function outside of the loop. For (2), @tf.function has reduce_retracing=True option that can avoid unnecessary retracing. For (3), please refer to https://www.tensorflow.org/guide/function#controlling_retracing and https://www.tensorflow.org/api_docs/python/tf/function for  more details.\n"
     ]
    },
    {
     "name": "stderr",
     "output_type": "stream",
     "text": [
      "WARNING:tensorflow:5 out of the last 5 calls to <function Model.make_predict_function.<locals>.predict_function at 0x17d06ac20> triggered tf.function retracing. Tracing is expensive and the excessive number of tracings could be due to (1) creating @tf.function repeatedly in a loop, (2) passing tensors with different shapes, (3) passing Python objects instead of tensors. For (1), please define your @tf.function outside of the loop. For (2), @tf.function has reduce_retracing=True option that can avoid unnecessary retracing. For (3), please refer to https://www.tensorflow.org/guide/function#controlling_retracing and https://www.tensorflow.org/api_docs/python/tf/function for  more details.\n"
     ]
    },
    {
     "name": "stdout",
     "output_type": "stream",
     "text": [
      "1/1 [==============================] - 0s 22ms/step\n"
     ]
    },
    {
     "data": {
      "image/png": "[encoded data removed]",
      "text/plain": [
       "<Figure size 720x504 with 1 Axes>"
      ]
     },
     "metadata": {
      "needs_background": "light"
     },
     "output_type": "display_data"
    }
   ],
   "source": [
    "#make and plot predictions of model_2\n",
    "y_preds_2 = model_2.predict(x_test)\n",
    "plot_predictions(predictions=y_preds_2)"
   ]
  },
  {
   "cell_type": "code",
   "execution_count": 46,
   "metadata": {},
   "outputs": [
    {
     "data": {
      "text/plain": [
       "(<tf.Tensor: shape=(), dtype=float32, numpy=10.660977>,\n",
       " <tf.Tensor: shape=(), dtype=float32, numpy=121.45354>)"
      ]
     },
     "execution_count": 46,
     "metadata": {},
     "output_type": "execute_result"
    }
   ],
   "source": [
    "#calculate model_2 evaluation metrics\n",
    "mae_2 = mae(y_test, y_preds_2)\n",
    "mse_2 = mse(y_test, y_preds_2)\n",
    "mae_2, mse_2"
   ]
  },
  {
   "cell_type": "code",
   "execution_count": 47,
   "metadata": {},
   "outputs": [
    {
     "name": "stderr",
     "output_type": "stream",
     "text": [
      "WARNING:absl:At this time, the v2.11+ optimizer `tf.keras.optimizers.SGD` runs slowly on M1/M2 Macs, please use the legacy Keras optimizer instead, located at `tf.keras.optimizers.legacy.SGD`.\n"
     ]
    },
    {
     "name": "stdout",
     "output_type": "stream",
     "text": [
      "Epoch 1/500\n",
      "2/2 [==============================] - 0s 3ms/step - loss: 46.4091 - mse: 3199.9966\n",
      "Epoch 2/500\n",
      "2/2 [==============================] - 0s 2ms/step - loss: 25.6074 - mse: 909.3173\n",
      "Epoch 3/500\n",
      "2/2 [==============================] - 0s 1ms/step - loss: 29.4227 - mse: 1300.6365\n",
      "Epoch 4/500\n",
      "2/2 [==============================] - 0s 2ms/step - loss: 16.2466 - mse: 378.6103\n",
      "Epoch 5/500\n",
      "2/2 [==============================] - 0s 1ms/step - loss: 22.5307 - mse: 743.5325\n",
      "Epoch 6/500\n",
      "2/2 [==============================] - 0s 1ms/step - loss: 10.8679 - mse: 130.6328\n",
      "Epoch 7/500\n",
      "2/2 [==============================] - 0s 2ms/step - loss: 11.8871 - mse: 175.8825\n",
      "Epoch 8/500\n",
      "2/2 [==============================] - 0s 1ms/step - loss: 12.9439 - mse: 229.5399\n",
      "Epoch 9/500\n",
      "2/2 [==============================] - 0s 1ms/step - loss: 34.0823 - mse: 1741.6644\n",
      "Epoch 10/500\n",
      "2/2 [==============================] - 0s 2ms/step - loss: 23.5271 - mse: 774.6631\n",
      "Epoch 11/500\n",
      "2/2 [==============================] - 0s 2ms/step - loss: 11.8772 - mse: 211.9555\n",
      "Epoch 12/500\n",
      "2/2 [==============================] - 0s 1ms/step - loss: 23.9222 - mse: 808.1797\n",
      "Epoch 13/500\n",
      "2/2 [==============================] - 0s 1ms/step - loss: 20.5946 - mse: 601.2324\n",
      "Epoch 14/500\n",
      "2/2 [==============================] - 0s 2ms/step - loss: 22.9225 - mse: 802.2720\n",
      "Epoch 15/500\n",
      "2/2 [==============================] - 0s 1ms/step - loss: 14.5440 - mse: 280.5878\n",
      "Epoch 16/500\n",
      "2/2 [==============================] - 0s 2ms/step - loss: 12.3163 - mse: 210.2354\n",
      "Epoch 17/500\n",
      "2/2 [==============================] - 0s 1ms/step - loss: 21.0579 - mse: 610.9051\n",
      "Epoch 18/500\n",
      "2/2 [==============================] - 0s 1ms/step - loss: 11.8642 - mse: 218.4250\n",
      "Epoch 19/500\n",
      "2/2 [==============================] - 0s 1ms/step - loss: 16.6656 - mse: 445.2873\n",
      "Epoch 20/500\n",
      "2/2 [==============================] - 0s 1ms/step - loss: 7.8458 - mse: 83.5745\n",
      "Epoch 21/500\n",
      "2/2 [==============================] - 0s 1ms/step - loss: 15.5270 - mse: 330.4313\n",
      "Epoch 22/500\n",
      "2/2 [==============================] - 0s 2ms/step - loss: 13.7074 - mse: 269.2579\n",
      "Epoch 23/500\n",
      "2/2 [==============================] - 0s 8ms/step - loss: 13.2204 - mse: 267.2420\n",
      "Epoch 24/500\n",
      "2/2 [==============================] - 0s 4ms/step - loss: 14.2894 - mse: 282.8074\n",
      "Epoch 25/500\n",
      "2/2 [==============================] - 0s 1ms/step - loss: 17.7911 - mse: 478.5412\n",
      "Epoch 26/500\n",
      "2/2 [==============================] - 0s 2ms/step - loss: 24.5218 - mse: 844.4301\n",
      "Epoch 27/500\n",
      "2/2 [==============================] - 0s 1ms/step - loss: 17.4707 - mse: 457.9261\n",
      "Epoch 28/500\n",
      "2/2 [==============================] - 0s 2ms/step - loss: 16.0363 - mse: 402.4862\n",
      "Epoch 29/500\n",
      "2/2 [==============================] - 0s 1ms/step - loss: 9.2376 - mse: 100.1738\n",
      "Epoch 30/500\n",
      "2/2 [==============================] - 0s 2ms/step - loss: 28.6279 - mse: 1451.8600\n",
      "Epoch 31/500\n",
      "2/2 [==============================] - 0s 2ms/step - loss: 51.8006 - mse: 4790.3193\n",
      "Epoch 32/500\n",
      "2/2 [==============================] - 0s 1ms/step - loss: 11.4041 - mse: 187.1914\n",
      "Epoch 33/500\n",
      "2/2 [==============================] - 0s 2ms/step - loss: 12.1537 - mse: 180.1501\n",
      "Epoch 34/500\n",
      "2/2 [==============================] - 0s 1ms/step - loss: 23.8260 - mse: 859.8745\n",
      "Epoch 35/500\n",
      "2/2 [==============================] - 0s 1ms/step - loss: 12.6407 - mse: 242.3935\n",
      "Epoch 36/500\n",
      "2/2 [==============================] - 0s 1ms/step - loss: 21.5639 - mse: 663.1395\n",
      "Epoch 37/500\n",
      "2/2 [==============================] - 0s 1ms/step - loss: 11.3591 - mse: 149.6332\n",
      "Epoch 38/500\n",
      "2/2 [==============================] - 0s 1ms/step - loss: 13.4206 - mse: 266.8478\n",
      "Epoch 39/500\n",
      "2/2 [==============================] - 0s 2ms/step - loss: 10.7738 - mse: 138.1127\n",
      "Epoch 40/500\n",
      "2/2 [==============================] - 0s 2ms/step - loss: 16.5270 - mse: 396.5554\n",
      "Epoch 41/500\n",
      "2/2 [==============================] - 0s 2ms/step - loss: 10.9440 - mse: 180.1882\n",
      "Epoch 42/500\n",
      "2/2 [==============================] - 0s 1ms/step - loss: 9.2794 - mse: 115.6114\n",
      "Epoch 43/500\n",
      "2/2 [==============================] - 0s 2ms/step - loss: 9.5913 - mse: 111.5888\n",
      "Epoch 44/500\n",
      "2/2 [==============================] - 0s 2ms/step - loss: 27.8709 - mse: 1245.0667\n",
      "Epoch 45/500\n",
      "2/2 [==============================] - 0s 1ms/step - loss: 11.2599 - mse: 146.1065\n",
      "Epoch 46/500\n",
      "2/2 [==============================] - 0s 2ms/step - loss: 13.8381 - mse: 279.9342\n",
      "Epoch 47/500\n",
      "2/2 [==============================] - 0s 1ms/step - loss: 11.9342 - mse: 212.2351\n",
      "Epoch 48/500\n",
      "2/2 [==============================] - 0s 2ms/step - loss: 16.9747 - mse: 390.1560\n",
      "Epoch 49/500\n",
      "2/2 [==============================] - 0s 1ms/step - loss: 9.7701 - mse: 104.7196\n",
      "Epoch 50/500\n",
      "2/2 [==============================] - 0s 2ms/step - loss: 14.1532 - mse: 279.6325\n",
      "Epoch 51/500\n",
      "2/2 [==============================] - 0s 1ms/step - loss: 11.7353 - mse: 160.9320\n",
      "Epoch 52/500\n",
      "2/2 [==============================] - 0s 1ms/step - loss: 31.3244 - mse: 1704.4124\n",
      "Epoch 53/500\n",
      "2/2 [==============================] - 0s 2ms/step - loss: 14.7008 - mse: 319.8482\n",
      "Epoch 54/500\n",
      "2/2 [==============================] - 0s 1ms/step - loss: 24.5673 - mse: 907.8870\n",
      "Epoch 55/500\n",
      "2/2 [==============================] - 0s 8ms/step - loss: 23.8479 - mse: 854.8133\n",
      "Epoch 56/500\n",
      "2/2 [==============================] - 0s 2ms/step - loss: 11.1123 - mse: 171.2179\n",
      "Epoch 57/500\n",
      "2/2 [==============================] - 0s 4ms/step - loss: 13.0446 - mse: 210.6352\n",
      "Epoch 58/500\n",
      "2/2 [==============================] - 0s 1ms/step - loss: 9.7743 - mse: 105.4831\n",
      "Epoch 59/500\n",
      "2/2 [==============================] - 0s 2ms/step - loss: 13.2173 - mse: 244.1029\n",
      "Epoch 60/500\n",
      "2/2 [==============================] - 0s 1ms/step - loss: 10.8245 - mse: 137.4683\n",
      "Epoch 61/500\n",
      "2/2 [==============================] - 0s 1ms/step - loss: 13.3974 - mse: 237.1288\n",
      "Epoch 62/500\n",
      "2/2 [==============================] - 0s 1ms/step - loss: 17.3399 - mse: 458.3777\n",
      "Epoch 63/500\n",
      "2/2 [==============================] - 0s 1ms/step - loss: 9.1334 - mse: 87.7691\n",
      "Epoch 64/500\n",
      "2/2 [==============================] - 0s 2ms/step - loss: 17.9621 - mse: 468.0737\n",
      "Epoch 65/500\n",
      "2/2 [==============================] - 0s 2ms/step - loss: 10.6184 - mse: 138.2972\n",
      "Epoch 66/500\n",
      "2/2 [==============================] - 0s 1ms/step - loss: 21.4807 - mse: 682.6003\n",
      "Epoch 67/500\n",
      "2/2 [==============================] - 0s 1ms/step - loss: 10.6291 - mse: 132.5316\n",
      "Epoch 68/500\n",
      "2/2 [==============================] - 0s 2ms/step - loss: 14.8638 - mse: 335.5857\n",
      "Epoch 69/500\n",
      "2/2 [==============================] - 0s 2ms/step - loss: 10.7743 - mse: 134.3748\n",
      "Epoch 70/500\n",
      "2/2 [==============================] - 0s 1ms/step - loss: 12.8759 - mse: 211.3152\n",
      "Epoch 71/500\n",
      "2/2 [==============================] - 0s 2ms/step - loss: 13.2957 - mse: 241.1448\n",
      "Epoch 72/500\n",
      "2/2 [==============================] - 0s 2ms/step - loss: 20.1430 - mse: 577.2415\n",
      "Epoch 73/500\n",
      "2/2 [==============================] - 0s 2ms/step - loss: 9.7390 - mse: 149.8777\n",
      "Epoch 74/500\n",
      "2/2 [==============================] - 0s 1ms/step - loss: 27.4477 - mse: 1199.3923\n",
      "Epoch 75/500\n",
      "2/2 [==============================] - 0s 1ms/step - loss: 10.0234 - mse: 145.9858\n",
      "Epoch 76/500\n",
      "2/2 [==============================] - 0s 1ms/step - loss: 12.9428 - mse: 208.7734\n",
      "Epoch 77/500\n",
      "2/2 [==============================] - 0s 2ms/step - loss: 17.9386 - mse: 501.7901\n",
      "Epoch 78/500\n",
      "2/2 [==============================] - 0s 2ms/step - loss: 8.9647 - mse: 88.0889\n",
      "Epoch 79/500\n",
      "2/2 [==============================] - 0s 2ms/step - loss: 28.7837 - mse: 1309.3728\n",
      "Epoch 80/500\n",
      "2/2 [==============================] - 0s 2ms/step - loss: 31.1324 - mse: 1539.8079\n",
      "Epoch 81/500\n",
      "2/2 [==============================] - 0s 2ms/step - loss: 13.5636 - mse: 259.0085\n",
      "Epoch 82/500\n",
      "2/2 [==============================] - 0s 2ms/step - loss: 15.8750 - mse: 346.5845\n",
      "Epoch 83/500\n",
      "2/2 [==============================] - 0s 7ms/step - loss: 9.1287 - mse: 92.7183\n",
      "Epoch 84/500\n",
      "2/2 [==============================] - 0s 2ms/step - loss: 8.2079 - mse: 108.4624\n",
      "Epoch 85/500\n",
      "2/2 [==============================] - 0s 2ms/step - loss: 18.8872 - mse: 555.6768\n",
      "Epoch 86/500\n",
      "2/2 [==============================] - 0s 2ms/step - loss: 21.9515 - mse: 690.1537\n",
      "Epoch 87/500\n",
      "2/2 [==============================] - 0s 1ms/step - loss: 11.2110 - mse: 150.6285\n",
      "Epoch 88/500\n",
      "2/2 [==============================] - 0s 1ms/step - loss: 25.9065 - mse: 956.7275\n",
      "Epoch 89/500\n",
      "2/2 [==============================] - 0s 2ms/step - loss: 9.5190 - mse: 132.4521\n",
      "Epoch 90/500\n",
      "2/2 [==============================] - 0s 2ms/step - loss: 18.2235 - mse: 476.4430\n",
      "Epoch 91/500\n",
      "2/2 [==============================] - 0s 2ms/step - loss: 10.3204 - mse: 166.8434\n",
      "Epoch 92/500\n",
      "2/2 [==============================] - 0s 2ms/step - loss: 17.4745 - mse: 417.0762\n",
      "Epoch 93/500\n",
      "2/2 [==============================] - 0s 1ms/step - loss: 6.8268 - mse: 64.7462\n",
      "Epoch 94/500\n",
      "2/2 [==============================] - 0s 2ms/step - loss: 17.6649 - mse: 475.2292\n",
      "Epoch 95/500\n",
      "2/2 [==============================] - 0s 2ms/step - loss: 17.3825 - mse: 419.6082\n",
      "Epoch 96/500\n",
      "2/2 [==============================] - 0s 2ms/step - loss: 11.5470 - mse: 209.3385\n",
      "Epoch 97/500\n",
      "2/2 [==============================] - 0s 1ms/step - loss: 18.3233 - mse: 455.0956\n",
      "Epoch 98/500\n",
      "2/2 [==============================] - 0s 2ms/step - loss: 9.7627 - mse: 177.7336\n",
      "Epoch 99/500\n",
      "2/2 [==============================] - 0s 2ms/step - loss: 16.9506 - mse: 450.7182\n",
      "Epoch 100/500\n",
      "2/2 [==============================] - 0s 1ms/step - loss: 17.8234 - mse: 469.1528\n",
      "Epoch 101/500\n",
      "2/2 [==============================] - 0s 1ms/step - loss: 16.4958 - mse: 363.7877\n",
      "Epoch 102/500\n",
      "2/2 [==============================] - 0s 1ms/step - loss: 12.9358 - mse: 242.9726\n",
      "Epoch 103/500\n",
      "2/2 [==============================] - 0s 2ms/step - loss: 16.0877 - mse: 353.1205\n",
      "Epoch 104/500\n",
      "2/2 [==============================] - 0s 1ms/step - loss: 22.2756 - mse: 681.4160\n",
      "Epoch 105/500\n",
      "2/2 [==============================] - 0s 2ms/step - loss: 20.2734 - mse: 631.7330\n",
      "Epoch 106/500\n",
      "2/2 [==============================] - 0s 2ms/step - loss: 10.1104 - mse: 175.0704\n",
      "Epoch 107/500\n",
      "2/2 [==============================] - 0s 1ms/step - loss: 24.7969 - mse: 897.7796\n",
      "Epoch 108/500\n",
      "2/2 [==============================] - 0s 2ms/step - loss: 14.8897 - mse: 331.9659\n",
      "Epoch 109/500\n",
      "2/2 [==============================] - 0s 1ms/step - loss: 9.0406 - mse: 105.3765\n",
      "Epoch 110/500\n",
      "2/2 [==============================] - 0s 2ms/step - loss: 9.2848 - mse: 134.0706\n",
      "Epoch 111/500\n",
      "2/2 [==============================] - 0s 2ms/step - loss: 12.9025 - mse: 221.6071\n",
      "Epoch 112/500\n",
      "2/2 [==============================] - 0s 2ms/step - loss: 15.7211 - mse: 387.6976\n",
      "Epoch 113/500\n",
      "2/2 [==============================] - 0s 1ms/step - loss: 11.2447 - mse: 177.1582\n",
      "Epoch 114/500\n",
      "2/2 [==============================] - 0s 7ms/step - loss: 24.9532 - mse: 976.2797\n",
      "Epoch 115/500\n",
      "2/2 [==============================] - 0s 4ms/step - loss: 13.5517 - mse: 256.9490\n",
      "Epoch 116/500\n",
      "2/2 [==============================] - 0s 2ms/step - loss: 14.4381 - mse: 297.1129\n",
      "Epoch 117/500\n",
      "2/2 [==============================] - 0s 2ms/step - loss: 10.0081 - mse: 127.9397\n",
      "Epoch 118/500\n",
      "2/2 [==============================] - 0s 1ms/step - loss: 11.1225 - mse: 152.7442\n",
      "Epoch 119/500\n",
      "2/2 [==============================] - 0s 1ms/step - loss: 8.1653 - mse: 87.4091\n",
      "Epoch 120/500\n",
      "2/2 [==============================] - 0s 2ms/step - loss: 30.8052 - mse: 1425.6115\n",
      "Epoch 121/500\n",
      "2/2 [==============================] - 0s 2ms/step - loss: 8.1840 - mse: 74.5938\n",
      "Epoch 122/500\n",
      "2/2 [==============================] - 0s 2ms/step - loss: 29.1876 - mse: 1327.1724\n",
      "Epoch 123/500\n",
      "2/2 [==============================] - 0s 2ms/step - loss: 33.9815 - mse: 1709.6331\n",
      "Epoch 124/500\n",
      "2/2 [==============================] - 0s 2ms/step - loss: 20.4617 - mse: 623.1562\n",
      "Epoch 125/500\n",
      "2/2 [==============================] - 0s 1ms/step - loss: 9.1304 - mse: 158.4322\n",
      "Epoch 126/500\n",
      "2/2 [==============================] - 0s 2ms/step - loss: 9.2750 - mse: 114.2488\n",
      "Epoch 127/500\n",
      "2/2 [==============================] - 0s 1ms/step - loss: 11.3092 - mse: 197.0680\n",
      "Epoch 128/500\n",
      "2/2 [==============================] - 0s 2ms/step - loss: 17.0848 - mse: 418.6195\n",
      "Epoch 129/500\n",
      "2/2 [==============================] - 0s 2ms/step - loss: 9.0145 - mse: 116.7026\n",
      "Epoch 130/500\n",
      "2/2 [==============================] - 0s 1ms/step - loss: 23.7452 - mse: 794.5651\n",
      "Epoch 131/500\n",
      "2/2 [==============================] - 0s 2ms/step - loss: 9.7340 - mse: 128.5322\n",
      "Epoch 132/500\n",
      "2/2 [==============================] - 0s 1ms/step - loss: 18.0287 - mse: 485.3106\n",
      "Epoch 133/500\n",
      "2/2 [==============================] - 0s 2ms/step - loss: 6.7753 - mse: 62.1750\n",
      "Epoch 134/500\n",
      "2/2 [==============================] - 0s 1ms/step - loss: 20.2135 - mse: 603.2132\n",
      "Epoch 135/500\n",
      "2/2 [==============================] - 0s 1ms/step - loss: 10.5282 - mse: 149.3810\n",
      "Epoch 136/500\n",
      "2/2 [==============================] - 0s 2ms/step - loss: 18.1258 - mse: 464.5203\n",
      "Epoch 137/500\n",
      "2/2 [==============================] - 0s 2ms/step - loss: 22.9475 - mse: 709.8997\n",
      "Epoch 138/500\n",
      "2/2 [==============================] - 0s 1ms/step - loss: 9.0876 - mse: 141.1523\n",
      "Epoch 139/500\n",
      "2/2 [==============================] - 0s 2ms/step - loss: 8.8992 - mse: 147.4770\n",
      "Epoch 140/500\n",
      "2/2 [==============================] - 0s 1ms/step - loss: 16.2805 - mse: 380.6873\n",
      "Epoch 141/500\n",
      "2/2 [==============================] - 0s 1ms/step - loss: 8.4593 - mse: 89.3686\n",
      "Epoch 142/500\n",
      "2/2 [==============================] - 0s 3ms/step - loss: 36.4891 - mse: 2340.3123\n",
      "Epoch 143/500\n",
      "2/2 [==============================] - 0s 2ms/step - loss: 25.2359 - mse: 900.1486\n",
      "Epoch 144/500\n",
      "2/2 [==============================] - 0s 3ms/step - loss: 10.4878 - mse: 184.7091\n",
      "Epoch 145/500\n",
      "2/2 [==============================] - 0s 1ms/step - loss: 25.8222 - mse: 901.8392\n",
      "Epoch 146/500\n",
      "2/2 [==============================] - 0s 2ms/step - loss: 9.9885 - mse: 131.9918\n",
      "Epoch 147/500\n",
      "2/2 [==============================] - 0s 2ms/step - loss: 14.7267 - mse: 290.6904\n",
      "Epoch 148/500\n",
      "2/2 [==============================] - 0s 1ms/step - loss: 17.8330 - mse: 438.5871\n",
      "Epoch 149/500\n",
      "2/2 [==============================] - 0s 2ms/step - loss: 8.4779 - mse: 106.1094\n",
      "Epoch 150/500\n",
      "2/2 [==============================] - 0s 1ms/step - loss: 7.6382 - mse: 66.5488\n",
      "Epoch 151/500\n",
      "2/2 [==============================] - 0s 1ms/step - loss: 18.8756 - mse: 517.1240\n",
      "Epoch 152/500\n",
      "2/2 [==============================] - 0s 1ms/step - loss: 10.4837 - mse: 136.9421\n",
      "Epoch 153/500\n",
      "2/2 [==============================] - 0s 1ms/step - loss: 30.4129 - mse: 1342.3466\n",
      "Epoch 154/500\n",
      "2/2 [==============================] - 0s 2ms/step - loss: 9.9927 - mse: 178.3954\n",
      "Epoch 155/500\n",
      "2/2 [==============================] - 0s 2ms/step - loss: 15.7416 - mse: 367.6124\n",
      "Epoch 156/500\n",
      "2/2 [==============================] - 0s 1ms/step - loss: 17.6500 - mse: 463.2262\n",
      "Epoch 157/500\n",
      "2/2 [==============================] - 0s 1ms/step - loss: 31.1695 - mse: 1561.5015\n",
      "Epoch 158/500\n",
      "2/2 [==============================] - 0s 2ms/step - loss: 10.2447 - mse: 139.4749\n",
      "Epoch 159/500\n",
      "2/2 [==============================] - 0s 2ms/step - loss: 8.7096 - mse: 98.3109\n",
      "Epoch 160/500\n",
      "2/2 [==============================] - 0s 1ms/step - loss: 20.7829 - mse: 621.4996\n",
      "Epoch 161/500\n",
      "2/2 [==============================] - 0s 2ms/step - loss: 11.8380 - mse: 207.0483\n",
      "Epoch 162/500\n",
      "2/2 [==============================] - 0s 2ms/step - loss: 21.7601 - mse: 682.8739\n",
      "Epoch 163/500\n",
      "2/2 [==============================] - 0s 1ms/step - loss: 19.4330 - mse: 543.8356\n",
      "Epoch 164/500\n",
      "2/2 [==============================] - 0s 1ms/step - loss: 11.1661 - mse: 182.6345\n",
      "Epoch 165/500\n",
      "2/2 [==============================] - 0s 2ms/step - loss: 9.6155 - mse: 181.8646\n",
      "Epoch 166/500\n",
      "2/2 [==============================] - 0s 2ms/step - loss: 21.5292 - mse: 678.8406\n",
      "Epoch 167/500\n",
      "2/2 [==============================] - 0s 7ms/step - loss: 26.4586 - mse: 1063.9037\n",
      "Epoch 168/500\n",
      "2/2 [==============================] - 0s 1ms/step - loss: 9.9397 - mse: 119.6919\n",
      "Epoch 169/500\n",
      "2/2 [==============================] - 0s 2ms/step - loss: 22.6954 - mse: 797.2752\n",
      "Epoch 170/500\n",
      "2/2 [==============================] - 0s 2ms/step - loss: 10.1568 - mse: 197.5700\n",
      "Epoch 171/500\n",
      "2/2 [==============================] - 0s 1ms/step - loss: 18.0055 - mse: 501.3791\n",
      "Epoch 172/500\n",
      "2/2 [==============================] - 0s 1ms/step - loss: 28.9428 - mse: 1317.2448\n",
      "Epoch 173/500\n",
      "2/2 [==============================] - 0s 1ms/step - loss: 16.6281 - mse: 437.2446\n",
      "Epoch 174/500\n",
      "2/2 [==============================] - 0s 2ms/step - loss: 11.2276 - mse: 201.3303\n",
      "Epoch 175/500\n",
      "2/2 [==============================] - 0s 1ms/step - loss: 27.5622 - mse: 1095.9708\n",
      "Epoch 176/500\n",
      "2/2 [==============================] - 0s 1ms/step - loss: 8.3431 - mse: 78.8944\n",
      "Epoch 177/500\n",
      "2/2 [==============================] - 0s 1ms/step - loss: 9.3285 - mse: 110.0944\n",
      "Epoch 178/500\n",
      "2/2 [==============================] - 0s 1ms/step - loss: 18.2009 - mse: 468.9772\n",
      "Epoch 179/500\n",
      "2/2 [==============================] - 0s 1ms/step - loss: 10.5899 - mse: 147.8086\n",
      "Epoch 180/500\n",
      "2/2 [==============================] - 0s 1ms/step - loss: 7.9557 - mse: 101.2795\n",
      "Epoch 181/500\n",
      "2/2 [==============================] - 0s 1ms/step - loss: 17.4237 - mse: 439.7563\n",
      "Epoch 182/500\n",
      "2/2 [==============================] - 0s 1ms/step - loss: 11.0660 - mse: 158.3006\n",
      "Epoch 183/500\n",
      "2/2 [==============================] - 0s 1ms/step - loss: 11.7210 - mse: 204.3707\n",
      "Epoch 184/500\n",
      "2/2 [==============================] - 0s 1ms/step - loss: 30.3789 - mse: 1384.9878\n",
      "Epoch 185/500\n",
      "2/2 [==============================] - 0s 1ms/step - loss: 7.6050 - mse: 99.3534\n",
      "Epoch 186/500\n",
      "2/2 [==============================] - 0s 1ms/step - loss: 16.0279 - mse: 370.5966\n",
      "Epoch 187/500\n",
      "2/2 [==============================] - 0s 1ms/step - loss: 8.6012 - mse: 86.3080\n",
      "Epoch 188/500\n",
      "2/2 [==============================] - 0s 1ms/step - loss: 28.6325 - mse: 1166.6442\n",
      "Epoch 189/500\n",
      "2/2 [==============================] - 0s 2ms/step - loss: 13.2092 - mse: 271.5521\n",
      "Epoch 190/500\n",
      "2/2 [==============================] - 0s 2ms/step - loss: 18.3572 - mse: 515.2142\n",
      "Epoch 191/500\n",
      "2/2 [==============================] - 0s 2ms/step - loss: 13.7940 - mse: 267.0309\n",
      "Epoch 192/500\n",
      "2/2 [==============================] - 0s 2ms/step - loss: 13.7513 - mse: 261.4056\n",
      "Epoch 193/500\n",
      "2/2 [==============================] - 0s 2ms/step - loss: 28.6275 - mse: 1138.0696\n",
      "Epoch 194/500\n",
      "2/2 [==============================] - 0s 2ms/step - loss: 7.0656 - mse: 79.7912\n",
      "Epoch 195/500\n",
      "2/2 [==============================] - 0s 2ms/step - loss: 7.8132 - mse: 99.9609\n",
      "Epoch 196/500\n",
      "2/2 [==============================] - 0s 1ms/step - loss: 26.0620 - mse: 962.1558\n",
      "Epoch 197/500\n",
      "2/2 [==============================] - 0s 2ms/step - loss: 11.5775 - mse: 188.2169\n",
      "Epoch 198/500\n",
      "2/2 [==============================] - 0s 1ms/step - loss: 18.8507 - mse: 525.9318\n",
      "Epoch 199/500\n",
      "2/2 [==============================] - 0s 1ms/step - loss: 16.6558 - mse: 403.3975\n",
      "Epoch 200/500\n",
      "2/2 [==============================] - 0s 1ms/step - loss: 12.3547 - mse: 226.4726\n",
      "Epoch 201/500\n",
      "2/2 [==============================] - 0s 1ms/step - loss: 7.1288 - mse: 68.4409\n",
      "Epoch 202/500\n",
      "2/2 [==============================] - 0s 1ms/step - loss: 22.8528 - mse: 745.1585\n",
      "Epoch 203/500\n",
      "2/2 [==============================] - 0s 2ms/step - loss: 9.0048 - mse: 154.4202\n",
      "Epoch 204/500\n",
      "2/2 [==============================] - 0s 1ms/step - loss: 18.8092 - mse: 530.7030\n",
      "Epoch 205/500\n",
      "2/2 [==============================] - 0s 1ms/step - loss: 9.3962 - mse: 128.0435\n",
      "Epoch 206/500\n",
      "2/2 [==============================] - 0s 8ms/step - loss: 10.4604 - mse: 143.4073\n",
      "Epoch 207/500\n",
      "2/2 [==============================] - 0s 2ms/step - loss: 21.0234 - mse: 671.9369\n",
      "Epoch 208/500\n",
      "2/2 [==============================] - 0s 2ms/step - loss: 16.4389 - mse: 389.1135\n",
      "Epoch 209/500\n",
      "2/2 [==============================] - 0s 3ms/step - loss: 14.3162 - mse: 316.6888\n",
      "Epoch 210/500\n",
      "2/2 [==============================] - 0s 1ms/step - loss: 17.2717 - mse: 435.5925\n",
      "Epoch 211/500\n",
      "2/2 [==============================] - 0s 1ms/step - loss: 10.2724 - mse: 147.1125\n",
      "Epoch 212/500\n",
      "2/2 [==============================] - 0s 2ms/step - loss: 19.7445 - mse: 585.4584\n",
      "Epoch 213/500\n",
      "2/2 [==============================] - 0s 1ms/step - loss: 14.6823 - mse: 297.8183\n",
      "Epoch 214/500\n",
      "2/2 [==============================] - 0s 2ms/step - loss: 14.3635 - mse: 282.4835\n",
      "Epoch 215/500\n",
      "2/2 [==============================] - 0s 1ms/step - loss: 22.8275 - mse: 770.8823\n",
      "Epoch 216/500\n",
      "2/2 [==============================] - 0s 1ms/step - loss: 14.4795 - mse: 323.0908\n",
      "Epoch 217/500\n",
      "2/2 [==============================] - 0s 1ms/step - loss: 9.2330 - mse: 115.9497\n",
      "Epoch 218/500\n",
      "2/2 [==============================] - 0s 2ms/step - loss: 11.8773 - mse: 191.2616\n",
      "Epoch 219/500\n",
      "2/2 [==============================] - 0s 2ms/step - loss: 6.8202 - mse: 59.6109\n",
      "Epoch 220/500\n",
      "2/2 [==============================] - 0s 2ms/step - loss: 7.1394 - mse: 52.6898\n",
      "Epoch 221/500\n",
      "2/2 [==============================] - 0s 1ms/step - loss: 38.5360 - mse: 2568.3286\n",
      "Epoch 222/500\n",
      "2/2 [==============================] - 0s 2ms/step - loss: 38.5671 - mse: 2432.3523\n",
      "Epoch 223/500\n",
      "2/2 [==============================] - 0s 2ms/step - loss: 5.0947 - mse: 43.6025\n",
      "Epoch 224/500\n",
      "2/2 [==============================] - 0s 2ms/step - loss: 11.2597 - mse: 198.8556\n",
      "Epoch 225/500\n",
      "2/2 [==============================] - 0s 1ms/step - loss: 31.1111 - mse: 1349.6665\n",
      "Epoch 226/500\n",
      "2/2 [==============================] - 0s 1ms/step - loss: 12.2968 - mse: 239.1833\n",
      "Epoch 227/500\n",
      "2/2 [==============================] - 0s 1ms/step - loss: 19.2692 - mse: 551.7227\n",
      "Epoch 228/500\n",
      "2/2 [==============================] - 0s 2ms/step - loss: 11.2793 - mse: 172.9744\n",
      "Epoch 229/500\n",
      "2/2 [==============================] - 0s 1ms/step - loss: 13.6820 - mse: 289.6124\n",
      "Epoch 230/500\n",
      "2/2 [==============================] - 0s 1ms/step - loss: 9.6226 - mse: 191.5598\n",
      "Epoch 231/500\n",
      "2/2 [==============================] - 0s 2ms/step - loss: 19.2799 - mse: 570.0030\n",
      "Epoch 232/500\n",
      "2/2 [==============================] - 0s 11ms/step - loss: 15.7618 - mse: 379.9338\n",
      "Epoch 233/500\n",
      "2/2 [==============================] - 0s 7ms/step - loss: 11.2815 - mse: 187.7043\n",
      "Epoch 234/500\n",
      "2/2 [==============================] - 0s 1ms/step - loss: 11.2029 - mse: 210.5797\n",
      "Epoch 235/500\n",
      "2/2 [==============================] - 0s 2ms/step - loss: 9.6186 - mse: 123.5212\n",
      "Epoch 236/500\n",
      "2/2 [==============================] - 0s 1ms/step - loss: 12.8663 - mse: 263.4206\n",
      "Epoch 237/500\n",
      "2/2 [==============================] - 0s 2ms/step - loss: 10.0603 - mse: 166.0712\n",
      "Epoch 238/500\n",
      "2/2 [==============================] - 0s 2ms/step - loss: 13.7209 - mse: 269.6783\n",
      "Epoch 239/500\n",
      "2/2 [==============================] - 0s 2ms/step - loss: 19.2935 - mse: 563.4719\n",
      "Epoch 240/500\n",
      "2/2 [==============================] - 0s 2ms/step - loss: 24.1789 - mse: 848.4476\n",
      "Epoch 241/500\n",
      "2/2 [==============================] - 0s 2ms/step - loss: 9.4288 - mse: 131.1026\n",
      "Epoch 242/500\n",
      "2/2 [==============================] - 0s 1ms/step - loss: 15.1872 - mse: 360.0008\n",
      "Epoch 243/500\n",
      "2/2 [==============================] - 0s 1ms/step - loss: 10.6028 - mse: 169.5673\n",
      "Epoch 244/500\n",
      "2/2 [==============================] - 0s 1ms/step - loss: 8.5119 - mse: 158.0620\n",
      "Epoch 245/500\n",
      "2/2 [==============================] - 0s 2ms/step - loss: 15.3859 - mse: 328.9781\n",
      "Epoch 246/500\n",
      "2/2 [==============================] - 0s 2ms/step - loss: 16.4668 - mse: 417.7453\n",
      "Epoch 247/500\n",
      "2/2 [==============================] - 0s 2ms/step - loss: 18.5545 - mse: 473.7077\n",
      "Epoch 248/500\n",
      "2/2 [==============================] - 0s 1ms/step - loss: 14.0628 - mse: 270.1265\n",
      "Epoch 249/500\n",
      "2/2 [==============================] - 0s 2ms/step - loss: 15.0895 - mse: 319.8181\n",
      "Epoch 250/500\n",
      "2/2 [==============================] - 0s 2ms/step - loss: 18.8412 - mse: 489.9381\n",
      "Epoch 251/500\n",
      "2/2 [==============================] - 0s 1ms/step - loss: 14.1289 - mse: 280.9431\n",
      "Epoch 252/500\n",
      "2/2 [==============================] - 0s 1ms/step - loss: 29.5335 - mse: 1221.6589\n",
      "Epoch 253/500\n",
      "2/2 [==============================] - 0s 1ms/step - loss: 8.2181 - mse: 105.8842\n",
      "Epoch 254/500\n",
      "2/2 [==============================] - 0s 1ms/step - loss: 11.1951 - mse: 186.3821\n",
      "Epoch 255/500\n",
      "2/2 [==============================] - 0s 1ms/step - loss: 18.3662 - mse: 463.4121\n",
      "Epoch 256/500\n",
      "2/2 [==============================] - 0s 1ms/step - loss: 10.1087 - mse: 140.1218\n",
      "Epoch 257/500\n",
      "2/2 [==============================] - 0s 1ms/step - loss: 14.9500 - mse: 334.6492\n",
      "Epoch 258/500\n",
      "2/2 [==============================] - 0s 2ms/step - loss: 4.8002 - mse: 33.2799\n",
      "Epoch 259/500\n",
      "2/2 [==============================] - 0s 1ms/step - loss: 9.5405 - mse: 125.6898\n",
      "Epoch 260/500\n",
      "2/2 [==============================] - 0s 2ms/step - loss: 38.4079 - mse: 2323.6694\n",
      "Epoch 261/500\n",
      "2/2 [==============================] - 0s 2ms/step - loss: 15.5197 - mse: 352.2032\n",
      "Epoch 262/500\n",
      "2/2 [==============================] - 0s 1ms/step - loss: 5.7996 - mse: 61.9103\n",
      "Epoch 263/500\n",
      "2/2 [==============================] - 0s 2ms/step - loss: 14.6226 - mse: 307.3900\n",
      "Epoch 264/500\n",
      "2/2 [==============================] - 0s 3ms/step - loss: 18.7909 - mse: 524.2509\n",
      "Epoch 265/500\n",
      "2/2 [==============================] - 0s 2ms/step - loss: 13.0565 - mse: 258.0629\n",
      "Epoch 266/500\n",
      "2/2 [==============================] - 0s 2ms/step - loss: 10.5829 - mse: 239.7706\n",
      "Epoch 267/500\n",
      "2/2 [==============================] - 0s 1ms/step - loss: 5.5279 - mse: 43.5429\n",
      "Epoch 268/500\n",
      "2/2 [==============================] - 0s 1ms/step - loss: 28.8252 - mse: 1321.6458\n",
      "Epoch 269/500\n",
      "2/2 [==============================] - 0s 2ms/step - loss: 32.9768 - mse: 1632.8684\n",
      "Epoch 270/500\n",
      "2/2 [==============================] - 0s 1ms/step - loss: 9.8047 - mse: 133.7380\n",
      "Epoch 271/500\n",
      "2/2 [==============================] - 0s 1ms/step - loss: 7.7431 - mse: 112.7901\n",
      "Epoch 272/500\n",
      "2/2 [==============================] - 0s 2ms/step - loss: 28.5172 - mse: 1116.7478\n",
      "Epoch 273/500\n",
      "2/2 [==============================] - 0s 2ms/step - loss: 7.4238 - mse: 83.9755\n",
      "Epoch 274/500\n",
      "2/2 [==============================] - 0s 2ms/step - loss: 6.3698 - mse: 45.6355\n",
      "Epoch 275/500\n",
      "2/2 [==============================] - 0s 2ms/step - loss: 37.1021 - mse: 2111.3704\n",
      "Epoch 276/500\n",
      "2/2 [==============================] - 0s 2ms/step - loss: 8.3262 - mse: 109.5136\n",
      "Epoch 277/500\n",
      "2/2 [==============================] - 0s 1ms/step - loss: 27.8848 - mse: 1065.6292\n",
      "Epoch 278/500\n",
      "2/2 [==============================] - 0s 1ms/step - loss: 10.6554 - mse: 213.2874\n",
      "Epoch 279/500\n",
      "2/2 [==============================] - 0s 1ms/step - loss: 16.0903 - mse: 388.0186\n",
      "Epoch 280/500\n",
      "2/2 [==============================] - 0s 1ms/step - loss: 21.1841 - mse: 678.8937\n",
      "Epoch 281/500\n",
      "2/2 [==============================] - 0s 2ms/step - loss: 23.9229 - mse: 875.3077\n",
      "Epoch 282/500\n",
      "2/2 [==============================] - 0s 1ms/step - loss: 8.3200 - mse: 97.5895\n",
      "Epoch 283/500\n",
      "2/2 [==============================] - 0s 1ms/step - loss: 8.4822 - mse: 99.9507\n",
      "Epoch 284/500\n",
      "2/2 [==============================] - 0s 2ms/step - loss: 26.7513 - mse: 1087.0593\n",
      "Epoch 285/500\n",
      "2/2 [==============================] - 0s 2ms/step - loss: 14.3244 - mse: 325.9950\n",
      "Epoch 286/500\n",
      "2/2 [==============================] - 0s 2ms/step - loss: 5.2851 - mse: 37.2170\n",
      "Epoch 287/500\n",
      "2/2 [==============================] - 0s 2ms/step - loss: 20.7717 - mse: 647.0758\n",
      "Epoch 288/500\n",
      "2/2 [==============================] - 0s 10ms/step - loss: 27.7495 - mse: 1171.9597\n",
      "Epoch 289/500\n",
      "2/2 [==============================] - 0s 5ms/step - loss: 10.4088 - mse: 225.5512\n",
      "Epoch 290/500\n",
      "2/2 [==============================] - 0s 2ms/step - loss: 16.2811 - mse: 352.0457\n",
      "Epoch 291/500\n",
      "2/2 [==============================] - 0s 2ms/step - loss: 16.4597 - mse: 397.1937\n",
      "Epoch 292/500\n",
      "2/2 [==============================] - 0s 1ms/step - loss: 7.4304 - mse: 105.5143\n",
      "Epoch 293/500\n",
      "2/2 [==============================] - 0s 1ms/step - loss: 16.5345 - mse: 420.4445\n",
      "Epoch 294/500\n",
      "2/2 [==============================] - 0s 2ms/step - loss: 25.3004 - mse: 941.1507\n",
      "Epoch 295/500\n",
      "2/2 [==============================] - 0s 2ms/step - loss: 14.6574 - mse: 312.6492\n",
      "Epoch 296/500\n",
      "2/2 [==============================] - 0s 2ms/step - loss: 4.5299 - mse: 29.0113\n",
      "Epoch 297/500\n",
      "2/2 [==============================] - 0s 1ms/step - loss: 9.6901 - mse: 205.4348\n",
      "Epoch 298/500\n",
      "2/2 [==============================] - 0s 2ms/step - loss: 23.8100 - mse: 825.9242\n",
      "Epoch 299/500\n",
      "2/2 [==============================] - 0s 1ms/step - loss: 18.9477 - mse: 535.9608\n",
      "Epoch 300/500\n",
      "2/2 [==============================] - 0s 1ms/step - loss: 8.7953 - mse: 117.9609\n",
      "Epoch 301/500\n",
      "2/2 [==============================] - 0s 1ms/step - loss: 15.8256 - mse: 362.6577\n",
      "Epoch 302/500\n",
      "2/2 [==============================] - 0s 2ms/step - loss: 6.6009 - mse: 77.7403\n",
      "Epoch 303/500\n",
      "2/2 [==============================] - 0s 2ms/step - loss: 21.5697 - mse: 702.7809\n",
      "Epoch 304/500\n",
      "2/2 [==============================] - 0s 1ms/step - loss: 25.9098 - mse: 924.1105\n",
      "Epoch 305/500\n",
      "2/2 [==============================] - 0s 2ms/step - loss: 9.0134 - mse: 122.1528\n",
      "Epoch 306/500\n",
      "2/2 [==============================] - 0s 1ms/step - loss: 21.6485 - mse: 659.2607\n",
      "Epoch 307/500\n",
      "2/2 [==============================] - 0s 1ms/step - loss: 8.2885 - mse: 144.4648\n",
      "Epoch 308/500\n",
      "2/2 [==============================] - 0s 1ms/step - loss: 20.9717 - mse: 673.3180\n",
      "Epoch 309/500\n",
      "2/2 [==============================] - 0s 2ms/step - loss: 19.1703 - mse: 526.9715\n",
      "Epoch 310/500\n",
      "2/2 [==============================] - 0s 1ms/step - loss: 5.9889 - mse: 75.0457\n",
      "Epoch 311/500\n",
      "2/2 [==============================] - 0s 1ms/step - loss: 8.8230 - mse: 160.9426\n",
      "Epoch 312/500\n",
      "2/2 [==============================] - 0s 1ms/step - loss: 29.9024 - mse: 1235.4121\n",
      "Epoch 313/500\n",
      "2/2 [==============================] - 0s 2ms/step - loss: 7.7894 - mse: 105.5460\n",
      "Epoch 314/500\n",
      "2/2 [==============================] - 0s 1ms/step - loss: 9.8976 - mse: 244.1952\n",
      "Epoch 315/500\n",
      "2/2 [==============================] - 0s 2ms/step - loss: 23.6854 - mse: 815.3190\n",
      "Epoch 316/500\n",
      "2/2 [==============================] - 0s 10ms/step - loss: 14.2339 - mse: 320.0595\n",
      "Epoch 317/500\n",
      "2/2 [==============================] - 0s 3ms/step - loss: 19.7120 - mse: 534.8875\n",
      "Epoch 318/500\n",
      "2/2 [==============================] - 0s 2ms/step - loss: 7.9335 - mse: 80.5433\n",
      "Epoch 319/500\n",
      "2/2 [==============================] - 0s 1ms/step - loss: 17.8625 - mse: 474.4825\n",
      "Epoch 320/500\n",
      "2/2 [==============================] - 0s 1ms/step - loss: 10.1851 - mse: 172.5835\n",
      "Epoch 321/500\n",
      "2/2 [==============================] - 0s 2ms/step - loss: 8.3050 - mse: 110.7266\n",
      "Epoch 322/500\n",
      "2/2 [==============================] - 0s 1ms/step - loss: 4.3086 - mse: 24.8080\n",
      "Epoch 323/500\n",
      "2/2 [==============================] - 0s 1ms/step - loss: 14.6795 - mse: 294.7490\n",
      "Epoch 324/500\n",
      "2/2 [==============================] - 0s 2ms/step - loss: 18.8754 - mse: 551.7593\n",
      "Epoch 325/500\n",
      "2/2 [==============================] - 0s 2ms/step - loss: 17.6454 - mse: 496.7165\n",
      "Epoch 326/500\n",
      "2/2 [==============================] - 0s 2ms/step - loss: 23.9340 - mse: 867.4910\n",
      "Epoch 327/500\n",
      "2/2 [==============================] - 0s 2ms/step - loss: 10.3089 - mse: 175.1745\n",
      "Epoch 328/500\n",
      "2/2 [==============================] - 0s 2ms/step - loss: 13.1422 - mse: 249.1679\n",
      "Epoch 329/500\n",
      "2/2 [==============================] - 0s 2ms/step - loss: 16.0057 - mse: 385.6450\n",
      "Epoch 330/500\n",
      "2/2 [==============================] - 0s 1ms/step - loss: 14.3405 - mse: 282.0717\n",
      "Epoch 331/500\n",
      "2/2 [==============================] - 0s 1ms/step - loss: 25.7837 - mse: 950.6984\n",
      "Epoch 332/500\n",
      "2/2 [==============================] - 0s 2ms/step - loss: 16.9595 - mse: 409.9881\n",
      "Epoch 333/500\n",
      "2/2 [==============================] - 0s 2ms/step - loss: 10.5829 - mse: 182.9107\n",
      "Epoch 334/500\n",
      "2/2 [==============================] - 0s 1ms/step - loss: 7.4759 - mse: 159.8459\n",
      "Epoch 335/500\n",
      "2/2 [==============================] - 0s 1ms/step - loss: 12.4931 - mse: 279.8257\n",
      "Epoch 336/500\n",
      "2/2 [==============================] - 0s 1ms/step - loss: 32.1851 - mse: 1412.9429\n",
      "Epoch 337/500\n",
      "2/2 [==============================] - 0s 2ms/step - loss: 10.4240 - mse: 180.7464\n",
      "Epoch 338/500\n",
      "2/2 [==============================] - 0s 1ms/step - loss: 19.6261 - mse: 570.5349\n",
      "Epoch 339/500\n",
      "2/2 [==============================] - 0s 1ms/step - loss: 35.2411 - mse: 1868.5221\n",
      "Epoch 340/500\n",
      "2/2 [==============================] - 0s 2ms/step - loss: 10.5083 - mse: 182.9735\n",
      "Epoch 341/500\n",
      "2/2 [==============================] - 0s 1ms/step - loss: 9.8541 - mse: 158.4024\n",
      "Epoch 342/500\n",
      "2/2 [==============================] - 0s 1ms/step - loss: 11.9199 - mse: 187.7889\n",
      "Epoch 343/500\n",
      "2/2 [==============================] - 0s 1ms/step - loss: 9.3702 - mse: 145.4207\n",
      "Epoch 344/500\n",
      "2/2 [==============================] - 0s 18ms/step - loss: 5.6459 - mse: 44.6653\n",
      "Epoch 345/500\n",
      "2/2 [==============================] - 0s 2ms/step - loss: 37.5702 - mse: 2303.5486\n",
      "Epoch 346/500\n",
      "2/2 [==============================] - 0s 7ms/step - loss: 16.9400 - mse: 413.5160\n",
      "Epoch 347/500\n",
      "2/2 [==============================] - 0s 2ms/step - loss: 12.9280 - mse: 283.2164\n",
      "Epoch 348/500\n",
      "2/2 [==============================] - 0s 2ms/step - loss: 7.7655 - mse: 136.1483\n",
      "Epoch 349/500\n",
      "2/2 [==============================] - 0s 1ms/step - loss: 14.1123 - mse: 267.8063\n",
      "Epoch 350/500\n",
      "2/2 [==============================] - 0s 1ms/step - loss: 15.6279 - mse: 360.9924\n",
      "Epoch 351/500\n",
      "2/2 [==============================] - 0s 1ms/step - loss: 33.3105 - mse: 1554.7932\n",
      "Epoch 352/500\n",
      "2/2 [==============================] - 0s 2ms/step - loss: 14.7327 - mse: 299.8451\n",
      "Epoch 353/500\n",
      "2/2 [==============================] - 0s 1ms/step - loss: 16.5297 - mse: 409.3946\n",
      "Epoch 354/500\n",
      "2/2 [==============================] - 0s 1ms/step - loss: 9.9910 - mse: 222.7262\n",
      "Epoch 355/500\n",
      "2/2 [==============================] - 0s 2ms/step - loss: 26.4850 - mse: 1004.8141\n",
      "Epoch 356/500\n",
      "2/2 [==============================] - 0s 2ms/step - loss: 10.9577 - mse: 205.8649\n",
      "Epoch 357/500\n",
      "2/2 [==============================] - 0s 1ms/step - loss: 13.2112 - mse: 286.2943\n",
      "Epoch 358/500\n",
      "2/2 [==============================] - 0s 2ms/step - loss: 14.6053 - mse: 324.3368\n",
      "Epoch 359/500\n",
      "2/2 [==============================] - 0s 2ms/step - loss: 12.3501 - mse: 312.6418\n",
      "Epoch 360/500\n",
      "2/2 [==============================] - 0s 1ms/step - loss: 20.3606 - mse: 622.6899\n",
      "Epoch 361/500\n",
      "2/2 [==============================] - 0s 1ms/step - loss: 10.8895 - mse: 218.5311\n",
      "Epoch 362/500\n",
      "2/2 [==============================] - 0s 2ms/step - loss: 6.8279 - mse: 78.0848\n",
      "Epoch 363/500\n",
      "2/2 [==============================] - 0s 1ms/step - loss: 23.7908 - mse: 822.5944\n",
      "Epoch 364/500\n",
      "2/2 [==============================] - 0s 1ms/step - loss: 29.4856 - mse: 1261.1334\n",
      "Epoch 365/500\n",
      "2/2 [==============================] - 0s 1ms/step - loss: 8.2862 - mse: 106.9905\n",
      "Epoch 366/500\n",
      "2/2 [==============================] - 0s 2ms/step - loss: 6.1183 - mse: 49.6120\n",
      "Epoch 367/500\n",
      "2/2 [==============================] - 0s 1ms/step - loss: 34.5544 - mse: 1811.1031\n",
      "Epoch 368/500\n",
      "2/2 [==============================] - 0s 1ms/step - loss: 7.3600 - mse: 101.2393\n",
      "Epoch 369/500\n",
      "2/2 [==============================] - 0s 10ms/step - loss: 8.7063 - mse: 109.6414\n",
      "Epoch 370/500\n",
      "2/2 [==============================] - 0s 4ms/step - loss: 14.2476 - mse: 318.1031\n",
      "Epoch 371/500\n",
      "2/2 [==============================] - 0s 2ms/step - loss: 6.8578 - mse: 85.2765\n",
      "Epoch 372/500\n",
      "2/2 [==============================] - 0s 1ms/step - loss: 6.5666 - mse: 77.8275\n",
      "Epoch 373/500\n",
      "2/2 [==============================] - 0s 1ms/step - loss: 24.1772 - mse: 865.9728\n",
      "Epoch 374/500\n",
      "2/2 [==============================] - 0s 2ms/step - loss: 10.2297 - mse: 209.6315\n",
      "Epoch 375/500\n",
      "2/2 [==============================] - 0s 2ms/step - loss: 12.8526 - mse: 234.5916\n",
      "Epoch 376/500\n",
      "2/2 [==============================] - 0s 1ms/step - loss: 14.7245 - mse: 316.0043\n",
      "Epoch 377/500\n",
      "2/2 [==============================] - 0s 1ms/step - loss: 14.6584 - mse: 296.2845\n",
      "Epoch 378/500\n",
      "2/2 [==============================] - 0s 1ms/step - loss: 16.1823 - mse: 409.6871\n",
      "Epoch 379/500\n",
      "2/2 [==============================] - 0s 2ms/step - loss: 20.6127 - mse: 586.2196\n",
      "Epoch 380/500\n",
      "2/2 [==============================] - 0s 1ms/step - loss: 34.1806 - mse: 1756.0385\n",
      "Epoch 381/500\n",
      "2/2 [==============================] - 0s 1ms/step - loss: 8.8589 - mse: 123.2496\n",
      "Epoch 382/500\n",
      "2/2 [==============================] - 0s 1ms/step - loss: 9.6085 - mse: 163.6669\n",
      "Epoch 383/500\n",
      "2/2 [==============================] - 0s 2ms/step - loss: 5.7665 - mse: 50.3186\n",
      "Epoch 384/500\n",
      "2/2 [==============================] - 0s 1ms/step - loss: 8.7247 - mse: 125.3270\n",
      "Epoch 385/500\n",
      "2/2 [==============================] - 0s 1ms/step - loss: 4.9698 - mse: 41.5662\n",
      "Epoch 386/500\n",
      "2/2 [==============================] - 0s 1ms/step - loss: 25.1308 - mse: 906.3882\n",
      "Epoch 387/500\n",
      "2/2 [==============================] - 0s 2ms/step - loss: 15.1041 - mse: 356.0843\n",
      "Epoch 388/500\n",
      "2/2 [==============================] - 0s 2ms/step - loss: 6.6571 - mse: 100.8990\n",
      "Epoch 389/500\n",
      "2/2 [==============================] - 0s 3ms/step - loss: 17.5728 - mse: 460.4699\n",
      "Epoch 390/500\n",
      "2/2 [==============================] - 0s 3ms/step - loss: 23.8649 - mse: 850.1273\n",
      "Epoch 391/500\n",
      "2/2 [==============================] - 0s 1ms/step - loss: 16.5039 - mse: 412.4805\n",
      "Epoch 392/500\n",
      "2/2 [==============================] - 0s 1ms/step - loss: 8.3788 - mse: 172.6122\n",
      "Epoch 393/500\n",
      "2/2 [==============================] - 0s 1ms/step - loss: 18.1504 - mse: 512.9762\n",
      "Epoch 394/500\n",
      "2/2 [==============================] - 0s 1ms/step - loss: 14.2054 - mse: 278.1597\n",
      "Epoch 395/500\n",
      "2/2 [==============================] - 0s 1ms/step - loss: 28.6771 - mse: 1140.5754\n",
      "Epoch 396/500\n",
      "2/2 [==============================] - 0s 2ms/step - loss: 8.2231 - mse: 109.5542\n",
      "Epoch 397/500\n",
      "2/2 [==============================] - 0s 1ms/step - loss: 10.5020 - mse: 205.1938\n",
      "Epoch 398/500\n",
      "2/2 [==============================] - 0s 5ms/step - loss: 7.3970 - mse: 81.5597\n",
      "Epoch 399/500\n",
      "2/2 [==============================] - 0s 2ms/step - loss: 15.5648 - mse: 367.6112\n",
      "Epoch 400/500\n",
      "2/2 [==============================] - 0s 2ms/step - loss: 6.7404 - mse: 61.3155\n",
      "Epoch 401/500\n",
      "2/2 [==============================] - 0s 1ms/step - loss: 7.9983 - mse: 114.6540\n",
      "Epoch 402/500\n",
      "2/2 [==============================] - 0s 1ms/step - loss: 16.4082 - mse: 389.1473\n",
      "Epoch 403/500\n",
      "2/2 [==============================] - 0s 1ms/step - loss: 12.3811 - mse: 294.6093\n",
      "Epoch 404/500\n",
      "2/2 [==============================] - 0s 1ms/step - loss: 22.9675 - mse: 740.1385\n",
      "Epoch 405/500\n",
      "2/2 [==============================] - 0s 2ms/step - loss: 18.0243 - mse: 497.8010\n",
      "Epoch 406/500\n",
      "2/2 [==============================] - 0s 2ms/step - loss: 7.0554 - mse: 75.9172\n",
      "Epoch 407/500\n",
      "2/2 [==============================] - 0s 2ms/step - loss: 12.5954 - mse: 268.9334\n",
      "Epoch 408/500\n",
      "2/2 [==============================] - 0s 2ms/step - loss: 5.6837 - mse: 41.3412\n",
      "Epoch 409/500\n",
      "2/2 [==============================] - 0s 2ms/step - loss: 31.0810 - mse: 1496.1672\n",
      "Epoch 410/500\n",
      "2/2 [==============================] - 0s 1ms/step - loss: 9.2974 - mse: 219.3782\n",
      "Epoch 411/500\n",
      "2/2 [==============================] - 0s 2ms/step - loss: 14.9037 - mse: 287.3266\n",
      "Epoch 412/500\n",
      "2/2 [==============================] - 0s 1ms/step - loss: 21.7976 - mse: 725.9750\n",
      "Epoch 413/500\n",
      "2/2 [==============================] - 0s 1ms/step - loss: 12.5226 - mse: 244.9102\n",
      "Epoch 414/500\n",
      "2/2 [==============================] - 0s 1ms/step - loss: 6.0990 - mse: 87.3603\n",
      "Epoch 415/500\n",
      "2/2 [==============================] - 0s 2ms/step - loss: 13.2505 - mse: 240.5025\n",
      "Epoch 416/500\n",
      "2/2 [==============================] - 0s 1ms/step - loss: 27.4846 - mse: 1042.3943\n",
      "Epoch 417/500\n",
      "2/2 [==============================] - 0s 1ms/step - loss: 10.4977 - mse: 204.2740\n",
      "Epoch 418/500\n",
      "2/2 [==============================] - 0s 1ms/step - loss: 12.8723 - mse: 237.8781\n",
      "Epoch 419/500\n",
      "2/2 [==============================] - 0s 8ms/step - loss: 15.9136 - mse: 377.4519\n",
      "Epoch 420/500\n",
      "2/2 [==============================] - 0s 4ms/step - loss: 24.8180 - mse: 853.8253\n",
      "Epoch 421/500\n",
      "2/2 [==============================] - 0s 2ms/step - loss: 17.2152 - mse: 437.1133\n",
      "Epoch 422/500\n",
      "2/2 [==============================] - 0s 2ms/step - loss: 7.8294 - mse: 154.6664\n",
      "Epoch 423/500\n",
      "2/2 [==============================] - 0s 1ms/step - loss: 25.4420 - mse: 911.7609\n",
      "Epoch 424/500\n",
      "2/2 [==============================] - 0s 2ms/step - loss: 14.9643 - mse: 364.8099\n",
      "Epoch 425/500\n",
      "2/2 [==============================] - 0s 2ms/step - loss: 7.1175 - mse: 74.8405\n",
      "Epoch 426/500\n",
      "2/2 [==============================] - 0s 2ms/step - loss: 20.1640 - mse: 562.7343\n",
      "Epoch 427/500\n",
      "2/2 [==============================] - 0s 2ms/step - loss: 6.2778 - mse: 85.6251\n",
      "Epoch 428/500\n",
      "2/2 [==============================] - 0s 2ms/step - loss: 12.6610 - mse: 271.3870\n",
      "Epoch 429/500\n",
      "2/2 [==============================] - 0s 1ms/step - loss: 12.0993 - mse: 230.9259\n",
      "Epoch 430/500\n",
      "2/2 [==============================] - 0s 1ms/step - loss: 11.0985 - mse: 243.1838\n",
      "Epoch 431/500\n",
      "2/2 [==============================] - 0s 1ms/step - loss: 10.0235 - mse: 194.2433\n",
      "Epoch 432/500\n",
      "2/2 [==============================] - 0s 1ms/step - loss: 13.3695 - mse: 291.2246\n",
      "Epoch 433/500\n",
      "2/2 [==============================] - 0s 2ms/step - loss: 11.3886 - mse: 294.9886\n",
      "Epoch 434/500\n",
      "2/2 [==============================] - 0s 1ms/step - loss: 30.4161 - mse: 1297.9967\n",
      "Epoch 435/500\n",
      "2/2 [==============================] - 0s 1ms/step - loss: 10.5085 - mse: 281.9529\n",
      "Epoch 436/500\n",
      "2/2 [==============================] - 0s 2ms/step - loss: 28.9013 - mse: 1217.7701\n",
      "Epoch 437/500\n",
      "2/2 [==============================] - 0s 2ms/step - loss: 8.6127 - mse: 208.6004\n",
      "Epoch 438/500\n",
      "2/2 [==============================] - 0s 2ms/step - loss: 12.7404 - mse: 263.4482\n",
      "Epoch 439/500\n",
      "2/2 [==============================] - 0s 1ms/step - loss: 33.6887 - mse: 1571.4655\n",
      "Epoch 440/500\n",
      "2/2 [==============================] - 0s 1ms/step - loss: 15.1128 - mse: 295.4115\n",
      "Epoch 441/500\n",
      "2/2 [==============================] - 0s 1ms/step - loss: 17.4938 - mse: 488.4784\n",
      "Epoch 442/500\n",
      "2/2 [==============================] - 0s 2ms/step - loss: 22.3353 - mse: 752.6674\n",
      "Epoch 443/500\n",
      "2/2 [==============================] - 0s 1ms/step - loss: 23.5125 - mse: 779.1159\n",
      "Epoch 444/500\n",
      "2/2 [==============================] - 0s 2ms/step - loss: 10.9405 - mse: 202.2331\n",
      "Epoch 445/500\n",
      "2/2 [==============================] - 0s 2ms/step - loss: 14.9344 - mse: 317.4686\n",
      "Epoch 446/500\n",
      "2/2 [==============================] - 0s 1ms/step - loss: 18.0232 - mse: 516.8088\n",
      "Epoch 447/500\n",
      "2/2 [==============================] - 0s 2ms/step - loss: 5.4165 - mse: 51.3664\n",
      "Epoch 448/500\n",
      "2/2 [==============================] - 0s 2ms/step - loss: 10.0758 - mse: 252.5068\n",
      "Epoch 449/500\n",
      "2/2 [==============================] - 0s 1ms/step - loss: 14.0239 - mse: 277.7940\n",
      "Epoch 450/500\n",
      "2/2 [==============================] - 0s 1ms/step - loss: 16.7963 - mse: 425.7691\n",
      "Epoch 451/500\n",
      "2/2 [==============================] - 0s 1ms/step - loss: 14.3004 - mse: 304.2720\n",
      "Epoch 452/500\n",
      "2/2 [==============================] - 0s 2ms/step - loss: 30.6377 - mse: 1331.3340\n",
      "Epoch 453/500\n",
      "2/2 [==============================] - 0s 2ms/step - loss: 7.6532 - mse: 157.7686\n",
      "Epoch 454/500\n",
      "2/2 [==============================] - 0s 2ms/step - loss: 28.1647 - mse: 1106.0859\n",
      "Epoch 455/500\n",
      "2/2 [==============================] - 0s 1ms/step - loss: 7.9596 - mse: 118.6399\n",
      "Epoch 456/500\n",
      "2/2 [==============================] - 0s 2ms/step - loss: 10.4126 - mse: 288.3095\n",
      "Epoch 457/500\n",
      "2/2 [==============================] - 0s 1ms/step - loss: 15.0431 - mse: 319.2640\n",
      "Epoch 458/500\n",
      "2/2 [==============================] - 0s 5ms/step - loss: 16.5751 - mse: 441.1687\n",
      "Epoch 459/500\n",
      "2/2 [==============================] - 0s 4ms/step - loss: 26.8812 - mse: 1035.2950\n",
      "Epoch 460/500\n",
      "2/2 [==============================] - 0s 5ms/step - loss: 12.4247 - mse: 249.4837\n",
      "Epoch 461/500\n",
      "2/2 [==============================] - 0s 1ms/step - loss: 12.5021 - mse: 272.5374\n",
      "Epoch 462/500\n",
      "2/2 [==============================] - 0s 1ms/step - loss: 13.3280 - mse: 245.5464\n",
      "Epoch 463/500\n",
      "2/2 [==============================] - 0s 1ms/step - loss: 29.5729 - mse: 1221.4983\n",
      "Epoch 464/500\n",
      "2/2 [==============================] - 0s 2ms/step - loss: 3.4630 - mse: 21.8641\n",
      "Epoch 465/500\n",
      "2/2 [==============================] - 0s 1ms/step - loss: 15.2300 - mse: 354.2383\n",
      "Epoch 466/500\n",
      "2/2 [==============================] - 0s 1ms/step - loss: 20.8666 - mse: 652.9000\n",
      "Epoch 467/500\n",
      "2/2 [==============================] - 0s 2ms/step - loss: 30.4206 - mse: 1411.6888\n",
      "Epoch 468/500\n",
      "2/2 [==============================] - 0s 1ms/step - loss: 11.0171 - mse: 235.8247\n",
      "Epoch 469/500\n",
      "2/2 [==============================] - 0s 2ms/step - loss: 12.7818 - mse: 276.8746\n",
      "Epoch 470/500\n",
      "2/2 [==============================] - 0s 1ms/step - loss: 3.2304 - mse: 14.1020\n",
      "Epoch 471/500\n",
      "2/2 [==============================] - 0s 1ms/step - loss: 16.7208 - mse: 374.2148\n",
      "Epoch 472/500\n",
      "2/2 [==============================] - 0s 1ms/step - loss: 13.4084 - mse: 253.7043\n",
      "Epoch 473/500\n",
      "2/2 [==============================] - 0s 1ms/step - loss: 15.2985 - mse: 398.0144\n",
      "Epoch 474/500\n",
      "2/2 [==============================] - 0s 1ms/step - loss: 11.7658 - mse: 304.2505\n",
      "Epoch 475/500\n",
      "2/2 [==============================] - 0s 1ms/step - loss: 16.4344 - mse: 398.6902\n",
      "Epoch 476/500\n",
      "2/2 [==============================] - 0s 2ms/step - loss: 13.8864 - mse: 274.5342\n",
      "Epoch 477/500\n",
      "2/2 [==============================] - 0s 1ms/step - loss: 30.6892 - mse: 1311.0349\n",
      "Epoch 478/500\n",
      "2/2 [==============================] - 0s 1ms/step - loss: 8.6180 - mse: 188.3273\n",
      "Epoch 479/500\n",
      "2/2 [==============================] - 0s 1ms/step - loss: 10.7552 - mse: 260.4547\n",
      "Epoch 480/500\n",
      "2/2 [==============================] - 0s 2ms/step - loss: 17.9237 - mse: 485.9508\n",
      "Epoch 481/500\n",
      "2/2 [==============================] - 0s 1ms/step - loss: 15.8240 - mse: 369.3436\n",
      "Epoch 482/500\n",
      "2/2 [==============================] - 0s 1ms/step - loss: 21.3391 - mse: 700.0064\n",
      "Epoch 483/500\n",
      "2/2 [==============================] - 0s 2ms/step - loss: 25.3118 - mse: 948.8081\n",
      "Epoch 484/500\n",
      "2/2 [==============================] - 0s 1ms/step - loss: 23.9019 - mse: 805.5546\n",
      "Epoch 485/500\n",
      "2/2 [==============================] - 0s 1ms/step - loss: 5.7557 - mse: 53.7095\n",
      "Epoch 486/500\n",
      "2/2 [==============================] - 0s 2ms/step - loss: 19.9150 - mse: 560.2940\n",
      "Epoch 487/500\n",
      "2/2 [==============================] - 0s 1ms/step - loss: 14.0513 - mse: 287.0484\n",
      "Epoch 488/500\n",
      "2/2 [==============================] - 0s 1ms/step - loss: 30.6281 - mse: 1336.1812\n",
      "Epoch 489/500\n",
      "2/2 [==============================] - 0s 1ms/step - loss: 11.9694 - mse: 237.3883\n",
      "Epoch 490/500\n",
      "2/2 [==============================] - 0s 6ms/step - loss: 12.7497 - mse: 252.2210\n",
      "Epoch 491/500\n",
      "2/2 [==============================] - 0s 7ms/step - loss: 23.6446 - mse: 839.6178\n",
      "Epoch 492/500\n",
      "2/2 [==============================] - 0s 6ms/step - loss: 20.4625 - mse: 588.0739\n",
      "Epoch 493/500\n",
      "2/2 [==============================] - 0s 3ms/step - loss: 4.9744 - mse: 48.1540\n",
      "Epoch 494/500\n",
      "2/2 [==============================] - 0s 1ms/step - loss: 12.7329 - mse: 245.7896\n",
      "Epoch 495/500\n",
      "2/2 [==============================] - 0s 2ms/step - loss: 13.4045 - mse: 240.1737\n",
      "Epoch 496/500\n",
      "2/2 [==============================] - 0s 2ms/step - loss: 12.6918 - mse: 241.5865\n",
      "Epoch 497/500\n",
      "2/2 [==============================] - 0s 2ms/step - loss: 17.6529 - mse: 516.9941\n",
      "Epoch 498/500\n",
      "2/2 [==============================] - 0s 1ms/step - loss: 23.4857 - mse: 810.6351\n",
      "Epoch 499/500\n",
      "2/2 [==============================] - 0s 1ms/step - loss: 9.3114 - mse: 134.6027\n",
      "Epoch 500/500\n",
      "2/2 [==============================] - 0s 2ms/step - loss: 14.6381 - mse: 296.0646\n"
     ]
    },
    {
     "data": {
      "text/plain": [
       "<keras.src.callbacks.History at 0x17615a2c0>"
      ]
     },
     "execution_count": 47,
     "metadata": {},
     "output_type": "execute_result"
    }
   ],
   "source": [
    "#model_3\n",
    "\n",
    "#set random seed\n",
    "tf.random.set_seed(42)\n",
    "\n",
    "#create the model\n",
    "model_3 = tf.keras.Sequential([\n",
    "    tf.keras.layers.Dense(100, input_shape=[1]),\n",
    "    tf.keras.layers.Dense(1, input_shape=[1])\n",
    "])\n",
    "\n",
    "#compile the model\n",
    "model_3.compile(loss=tf.keras.losses.mae,\n",
    "                optimizer=tf.keras.optimizers.SGD(),\n",
    "                metrics=[\"mse\"])\n",
    "\n",
    "#fit the model\n",
    "model_3.fit(x_train, y_train, epochs=500)\n"
   ]
  },
  {
   "cell_type": "code",
   "execution_count": 48,
   "metadata": {},
   "outputs": [
    {
     "name": "stdout",
     "output_type": "stream",
     "text": [
      "WARNING:tensorflow:6 out of the last 6 calls to <function Model.make_predict_function.<locals>.predict_function at 0x175b8ce50> triggered tf.function retracing. Tracing is expensive and the excessive number of tracings could be due to (1) creating @tf.function repeatedly in a loop, (2) passing tensors with different shapes, (3) passing Python objects instead of tensors. For (1), please define your @tf.function outside of the loop. For (2), @tf.function has reduce_retracing=True option that can avoid unnecessary retracing. For (3), please refer to https://www.tensorflow.org/guide/function#controlling_retracing and https://www.tensorflow.org/api_docs/python/tf/function for  more details.\n"
     ]
    },
    {
     "name": "stderr",
     "output_type": "stream",
     "text": [
      "WARNING:tensorflow:6 out of the last 6 calls to <function Model.make_predict_function.<locals>.predict_function at 0x175b8ce50> triggered tf.function retracing. Tracing is expensive and the excessive number of tracings could be due to (1) creating @tf.function repeatedly in a loop, (2) passing tensors with different shapes, (3) passing Python objects instead of tensors. For (1), please define your @tf.function outside of the loop. For (2), @tf.function has reduce_retracing=True option that can avoid unnecessary retracing. For (3), please refer to https://www.tensorflow.org/guide/function#controlling_retracing and https://www.tensorflow.org/api_docs/python/tf/function for  more details.\n"
     ]
    },
    {
     "name": "stdout",
     "output_type": "stream",
     "text": [
      "1/1 [==============================] - 0s 26ms/step\n"
     ]
    },
    {
     "data": {
      "image/png": "[encoded data removed]",
      "text/plain": [
       "<Figure size 720x504 with 1 Axes>"
      ]
     },
     "metadata": {
      "needs_background": "light"
     },
     "output_type": "display_data"
    }
   ],
   "source": [
    "y_preds_3 = model_3.predict(x_test)\n",
    "plot_predictions(predictions=y_preds_3)"
   ]
  },
  {
   "cell_type": "code",
   "execution_count": 49,
   "metadata": {},
   "outputs": [
    {
     "data": {
      "text/plain": [
       "(<tf.Tensor: shape=(), dtype=float32, numpy=68.73191>,\n",
       " <tf.Tensor: shape=(), dtype=float32, numpy=4810.6094>)"
      ]
     },
     "execution_count": 49,
     "metadata": {},
     "output_type": "execute_result"
    }
   ],
   "source": [
    "#calculate model_3 evaluation metrics\n",
    "mae_3 = mae(y_test, y_preds_3)\n",
    "mse_3 = mse(y_test, y_preds_3)\n",
    "mae_3, mse_3"
   ]
  },
  {
   "cell_type": "markdown",
   "metadata": {},
   "source": [
    "Comparing the results of our experiments"
   ]
  },
  {
   "cell_type": "code",
   "execution_count": 50,
   "metadata": {},
   "outputs": [
    {
     "data": {
      "text/html": [
       "<div>\n",
       "<style scoped>\n",
       "    .dataframe tbody tr th:only-of-type {\n",
       "        vertical-align: middle;\n",
       "    }\n",
       "\n",
       "    .dataframe tbody tr th {\n",
       "        vertical-align: top;\n",
       "    }\n",
       "\n",
       "    .dataframe thead th {\n",
       "        text-align: right;\n",
       "    }\n",
       "</style>\n",
       "<table border=\"1\" class=\"dataframe\">\n",
       "  <thead>\n",
       "    <tr style=\"text-align: right;\">\n",
       "      <th></th>\n",
       "      <th>model</th>\n",
       "      <th>mae</th>\n",
       "      <th>mse</th>\n",
       "    </tr>\n",
       "  </thead>\n",
       "  <tbody>\n",
       "    <tr>\n",
       "      <th>0</th>\n",
       "      <td>model_1</td>\n",
       "      <td>8.559546</td>\n",
       "      <td>79.747696</td>\n",
       "    </tr>\n",
       "    <tr>\n",
       "      <th>1</th>\n",
       "      <td>model_2</td>\n",
       "      <td>10.660977</td>\n",
       "      <td>121.453537</td>\n",
       "    </tr>\n",
       "    <tr>\n",
       "      <th>2</th>\n",
       "      <td>model_3</td>\n",
       "      <td>68.731911</td>\n",
       "      <td>4810.609375</td>\n",
       "    </tr>\n",
       "  </tbody>\n",
       "</table>\n",
       "</div>"
      ],
      "text/plain": [
       "     model        mae          mse\n",
       "0  model_1   8.559546    79.747696\n",
       "1  model_2  10.660977   121.453537\n",
       "2  model_3  68.731911  4810.609375"
      ]
     },
     "execution_count": 50,
     "metadata": {},
     "output_type": "execute_result"
    }
   ],
   "source": [
    "import pandas as pd \n",
    "\n",
    "model_results =[[\"model_1\", mae_1.numpy(), mse_1.numpy()],\n",
    "                [\"model_2\", mae_2.numpy(), mse_2.numpy()],\n",
    "                [\"model_3\", mae_3.numpy(), mse_3.numpy()]]\n",
    "\n",
    "all_results = pd.DataFrame(model_results, columns=[\"model\", \"mae\", \"mse\"])\n",
    "all_results"
   ]
  },
  {
   "cell_type": "markdown",
   "metadata": {},
   "source": [
    "Looks like model_2 performed the best..."
   ]
  },
  {
   "cell_type": "code",
   "execution_count": 51,
   "metadata": {},
   "outputs": [
    {
     "name": "stdout",
     "output_type": "stream",
     "text": [
      "Model: \"sequential_4\"\n",
      "_________________________________________________________________\n",
      " Layer (type)                Output Shape              Param #   \n",
      "=================================================================\n",
      " dense_5 (Dense)             (None, 10)                20        \n",
      "                                                                 \n",
      " dense_6 (Dense)             (None, 1)                 11        \n",
      "                                                                 \n",
      "=================================================================\n",
      "Total params: 31 (124.00 Byte)\n",
      "Trainable params: 31 (124.00 Byte)\n",
      "Non-trainable params: 0 (0.00 Byte)\n",
      "_________________________________________________________________\n"
     ]
    }
   ],
   "source": [
    "model_2.summary()"
   ]
  },
  {
   "cell_type": "markdown",
   "metadata": {},
   "source": [
    "Saving models\n",
    "1. The SavedModel format\n",
    "2. The HDF5 format"
   ]
  },
  {
   "cell_type": "code",
   "execution_count": 52,
   "metadata": {},
   "outputs": [
    {
     "name": "stdout",
     "output_type": "stream",
     "text": [
      "INFO:tensorflow:Assets written to: best_model_SavedModel_format/assets\n"
     ]
    },
    {
     "name": "stderr",
     "output_type": "stream",
     "text": [
      "INFO:tensorflow:Assets written to: best_model_SavedModel_format/assets\n"
     ]
    }
   ],
   "source": [
    "#save model using the SaveModel format\n",
    "model_2.save(\"best_model_SavedModel_format\")"
   ]
  },
  {
   "cell_type": "code",
   "execution_count": 53,
   "metadata": {},
   "outputs": [
    {
     "name": "stderr",
     "output_type": "stream",
     "text": [
      "/Library/Frameworks/Python.framework/Versions/3.10/lib/python3.10/site-packages/keras/src/engine/training.py:3103: UserWarning: You are saving your model as an HDF5 file via `model.save()`. This file format is considered legacy. We recommend using instead the native Keras format, e.g. `model.save('my_model.keras')`.\n",
      "  saving_api.save_model(\n"
     ]
    }
   ],
   "source": [
    "#save model using the HDF5 format\n",
    "model_2.save(\"best_model_HDF5_format.h5\")"
   ]
  },
  {
   "cell_type": "markdown",
   "metadata": {},
   "source": [
    "Loading in a saved model"
   ]
  },
  {
   "cell_type": "code",
   "execution_count": 54,
   "metadata": {},
   "outputs": [
    {
     "name": "stderr",
     "output_type": "stream",
     "text": [
      "WARNING:absl:At this time, the v2.11+ optimizer `tf.keras.optimizers.RestoredOptimizer` runs slowly on M1/M2 Macs, please use the legacy Keras optimizer instead, located at `tf.keras.optimizers.legacy.RestoredOptimizer`.\n",
      "WARNING:absl:At this time, the v2.11+ optimizer `tf.keras.optimizers.SGD` runs slowly on M1/M2 Macs, please use the legacy Keras optimizer instead, located at `tf.keras.optimizers.legacy.SGD`.\n"
     ]
    },
    {
     "name": "stdout",
     "output_type": "stream",
     "text": [
      "Model: \"sequential_4\"\n",
      "_________________________________________________________________\n",
      " Layer (type)                Output Shape              Param #   \n",
      "=================================================================\n",
      " dense_5 (Dense)             (None, 10)                20        \n",
      "                                                                 \n",
      " dense_6 (Dense)             (None, 1)                 11        \n",
      "                                                                 \n",
      "=================================================================\n",
      "Total params: 31 (124.00 Byte)\n",
      "Trainable params: 31 (124.00 Byte)\n",
      "Non-trainable params: 0 (0.00 Byte)\n",
      "_________________________________________________________________\n"
     ]
    }
   ],
   "source": [
    "#load in the SavedModel format model\n",
    "loaded_SavedModel_format = tf.keras.models.load_model(\"best_model_SavedModel_format\")\n",
    "loaded_SavedModel_format.summary()"
   ]
  },
  {
   "cell_type": "code",
   "execution_count": 55,
   "metadata": {},
   "outputs": [
    {
     "name": "stdout",
     "output_type": "stream",
     "text": [
      "1/1 [==============================] - 0s 15ms/step\n",
      "1/1 [==============================] - 0s 21ms/step\n"
     ]
    },
    {
     "data": {
      "text/plain": [
       "array([[ True],\n",
       "       [ True],\n",
       "       [ True],\n",
       "       [ True],\n",
       "       [ True],\n",
       "       [ True],\n",
       "       [ True],\n",
       "       [ True],\n",
       "       [ True],\n",
       "       [ True]])"
      ]
     },
     "execution_count": 55,
     "metadata": {},
     "output_type": "execute_result"
    }
   ],
   "source": [
    "#compare model_2 predictions with SavedModel format model predictions\n",
    "model_2_preds = model_2.predict(x_test)\n",
    "loaded_SavedModel_format_preds = loaded_SavedModel_format.predict(x_test)\n",
    "model_2_preds == loaded_SavedModel_format_preds"
   ]
  },
  {
   "cell_type": "code",
   "execution_count": 56,
   "metadata": {},
   "outputs": [
    {
     "name": "stderr",
     "output_type": "stream",
     "text": [
      "WARNING:absl:At this time, the v2.11+ optimizer `tf.keras.optimizers.SGD` runs slowly on M1/M2 Macs, please use the legacy Keras optimizer instead, located at `tf.keras.optimizers.legacy.SGD`.\n"
     ]
    },
    {
     "name": "stdout",
     "output_type": "stream",
     "text": [
      "Model: \"sequential_4\"\n",
      "_________________________________________________________________\n",
      " Layer (type)                Output Shape              Param #   \n",
      "=================================================================\n",
      " dense_5 (Dense)             (None, 10)                20        \n",
      "                                                                 \n",
      " dense_6 (Dense)             (None, 1)                 11        \n",
      "                                                                 \n",
      "=================================================================\n",
      "Total params: 31 (124.00 Byte)\n",
      "Trainable params: 31 (124.00 Byte)\n",
      "Non-trainable params: 0 (0.00 Byte)\n",
      "_________________________________________________________________\n"
     ]
    }
   ],
   "source": [
    "#load in a model using the .h5 format\n",
    "loaded_h5_model = tf.keras.models.load_model(\"best_model_HDF5_format.h5\")\n",
    "loaded_h5_model.summary()"
   ]
  },
  {
   "cell_type": "code",
   "execution_count": 57,
   "metadata": {},
   "outputs": [
    {
     "name": "stdout",
     "output_type": "stream",
     "text": [
      "Model: \"sequential_4\"\n",
      "_________________________________________________________________\n",
      " Layer (type)                Output Shape              Param #   \n",
      "=================================================================\n",
      " dense_5 (Dense)             (None, 10)                20        \n",
      "                                                                 \n",
      " dense_6 (Dense)             (None, 1)                 11        \n",
      "                                                                 \n",
      "=================================================================\n",
      "Total params: 31 (124.00 Byte)\n",
      "Trainable params: 31 (124.00 Byte)\n",
      "Non-trainable params: 0 (0.00 Byte)\n",
      "_________________________________________________________________\n"
     ]
    }
   ],
   "source": [
    "model_2.summary()"
   ]
  },
  {
   "cell_type": "code",
   "execution_count": 58,
   "metadata": {},
   "outputs": [
    {
     "name": "stdout",
     "output_type": "stream",
     "text": [
      "1/1 [==============================] - 0s 9ms/step\n",
      "1/1 [==============================] - 0s 20ms/step\n"
     ]
    },
    {
     "data": {
      "text/plain": [
       "array([[ True],\n",
       "       [ True],\n",
       "       [ True],\n",
       "       [ True],\n",
       "       [ True],\n",
       "       [ True],\n",
       "       [ True],\n",
       "       [ True],\n",
       "       [ True],\n",
       "       [ True]])"
      ]
     },
     "execution_count": 58,
     "metadata": {},
     "output_type": "execute_result"
    }
   ],
   "source": [
    "#check to see if loaded .h5 model predictions match model_2\n",
    "model_2_preds = model_2.predict(x_test)\n",
    "loaded_h5_model_preds = loaded_h5_model.predict(x_test)\n",
    "model_2_preds == loaded_h5_model_preds"
   ]
  },
  {
   "cell_type": "code",
   "execution_count": 59,
   "metadata": {},
   "outputs": [
    {
     "data": {
      "text/plain": [
       "<tf.Tensor: shape=(), dtype=bool, numpy=True>"
      ]
     },
     "execution_count": 59,
     "metadata": {},
     "output_type": "execute_result"
    }
   ],
   "source": [
    "mae(y_true = y_test, y_pred=model_2_preds) == mae(y_true= y_test, y_pred= loaded_SavedModel_format_preds)"
   ]
  },
  {
   "cell_type": "code",
   "execution_count": 60,
   "metadata": {},
   "outputs": [
    {
     "data": {
      "text/plain": [
       "(array([[ 76.28624 ],\n",
       "        [ 81.2584  ],\n",
       "        [ 86.23057 ],\n",
       "        [ 91.20273 ],\n",
       "        [ 96.1749  ],\n",
       "        [101.14706 ],\n",
       "        [106.119225],\n",
       "        [111.091385],\n",
       "        [116.06355 ],\n",
       "        [121.03572 ]], dtype=float32),\n",
       " array([[ 76.28624 ],\n",
       "        [ 81.2584  ],\n",
       "        [ 86.23057 ],\n",
       "        [ 91.20273 ],\n",
       "        [ 96.1749  ],\n",
       "        [101.14706 ],\n",
       "        [106.119225],\n",
       "        [111.091385],\n",
       "        [116.06355 ],\n",
       "        [121.03572 ]], dtype=float32))"
      ]
     },
     "execution_count": 60,
     "metadata": {},
     "output_type": "execute_result"
    }
   ],
   "source": [
    "model_2_preds, loaded_SavedModel_format_preds"
   ]
  },
  {
   "cell_type": "code",
   "execution_count": 61,
   "metadata": {},
   "outputs": [
    {
     "data": {
      "text/plain": [
       "False"
      ]
     },
     "execution_count": 61,
     "metadata": {},
     "output_type": "execute_result"
    }
   ],
   "source": [
    "model_2_preds.squeeze == loaded_SavedModel_format_preds.squeeze"
   ]
  },
  {
   "cell_type": "code",
   "execution_count": 62,
   "metadata": {},
   "outputs": [
    {
     "name": "stdout",
     "output_type": "stream",
     "text": [
      "Epoch 1/100\n"
     ]
    },
    {
     "name": "stdout",
     "output_type": "stream",
     "text": [
      "2/2 [==============================] - 0s 6ms/step - loss: 15.4769 - mse: 349.7706\n",
      "Epoch 2/100\n",
      "2/2 [==============================] - 0s 4ms/step - loss: 8.1061 - mse: 93.8094\n",
      "Epoch 3/100\n",
      "2/2 [==============================] - 0s 2ms/step - loss: 17.6153 - mse: 454.4803\n",
      "Epoch 4/100\n",
      "2/2 [==============================] - 0s 2ms/step - loss: 9.8936 - mse: 162.0731\n",
      "Epoch 5/100\n",
      "2/2 [==============================] - 0s 3ms/step - loss: 12.2326 - mse: 187.2635\n",
      "Epoch 6/100\n",
      "2/2 [==============================] - 0s 2ms/step - loss: 9.7730 - mse: 109.2206\n",
      "Epoch 7/100\n",
      "2/2 [==============================] - 0s 2ms/step - loss: 10.8160 - mse: 159.2091\n",
      "Epoch 8/100\n",
      "2/2 [==============================] - 0s 2ms/step - loss: 13.7386 - mse: 279.8378\n",
      "Epoch 9/100\n",
      "2/2 [==============================] - 0s 3ms/step - loss: 24.8251 - mse: 853.9127\n",
      "Epoch 10/100\n",
      "2/2 [==============================] - 0s 2ms/step - loss: 15.3339 - mse: 336.6051\n",
      "Epoch 11/100\n",
      "2/2 [==============================] - 0s 2ms/step - loss: 10.7865 - mse: 197.1529\n",
      "Epoch 12/100\n",
      "2/2 [==============================] - 0s 2ms/step - loss: 23.0014 - mse: 756.0128\n",
      "Epoch 13/100\n",
      "2/2 [==============================] - 0s 2ms/step - loss: 22.0386 - mse: 693.2603\n",
      "Epoch 14/100\n",
      "2/2 [==============================] - 0s 3ms/step - loss: 23.1163 - mse: 812.7394\n",
      "Epoch 15/100\n",
      "2/2 [==============================] - 0s 2ms/step - loss: 13.7736 - mse: 265.5569\n",
      "Epoch 16/100\n",
      "2/2 [==============================] - 0s 2ms/step - loss: 8.9926 - mse: 101.3575\n",
      "Epoch 17/100\n",
      "2/2 [==============================] - 0s 2ms/step - loss: 18.7846 - mse: 487.8200\n",
      "Epoch 18/100\n",
      "2/2 [==============================] - 0s 2ms/step - loss: 8.8352 - mse: 101.3472\n",
      "Epoch 19/100\n",
      "2/2 [==============================] - 0s 1ms/step - loss: 14.2646 - mse: 335.0158\n",
      "Epoch 20/100\n",
      "2/2 [==============================] - 0s 2ms/step - loss: 9.3117 - mse: 156.8046\n",
      "Epoch 21/100\n",
      "2/2 [==============================] - 0s 2ms/step - loss: 16.1364 - mse: 367.7525\n",
      "Epoch 22/100\n",
      "2/2 [==============================] - 0s 2ms/step - loss: 14.3502 - mse: 290.9457\n",
      "Epoch 23/100\n",
      "2/2 [==============================] - 0s 2ms/step - loss: 13.0718 - mse: 261.4901\n",
      "Epoch 24/100\n",
      "2/2 [==============================] - 0s 2ms/step - loss: 13.9136 - mse: 274.6042\n",
      "Epoch 25/100\n",
      "2/2 [==============================] - 0s 1ms/step - loss: 16.9592 - mse: 426.3271\n",
      "Epoch 26/100\n",
      "2/2 [==============================] - 0s 2ms/step - loss: 23.3901 - mse: 779.9041\n",
      "Epoch 27/100\n",
      "2/2 [==============================] - 0s 3ms/step - loss: 20.2545 - mse: 609.9146\n",
      "Epoch 28/100\n",
      "2/2 [==============================] - 0s 2ms/step - loss: 15.3862 - mse: 372.2542\n",
      "Epoch 29/100\n",
      "2/2 [==============================] - 0s 1ms/step - loss: 8.1302 - mse: 78.6794\n",
      "Epoch 30/100\n",
      "2/2 [==============================] - 0s 1ms/step - loss: 29.1833 - mse: 1503.2244\n",
      "Epoch 31/100\n",
      "2/2 [==============================] - 0s 2ms/step - loss: 52.7276 - mse: 4957.4434\n",
      "Epoch 32/100\n",
      "2/2 [==============================] - 0s 3ms/step - loss: 12.0494 - mse: 227.2947\n",
      "Epoch 33/100\n",
      "2/2 [==============================] - 0s 2ms/step - loss: 10.0158 - mse: 114.1727\n",
      "Epoch 34/100\n",
      "2/2 [==============================] - 0s 1ms/step - loss: 20.3214 - mse: 611.6228\n",
      "Epoch 35/100\n",
      "2/2 [==============================] - 0s 2ms/step - loss: 13.8647 - mse: 294.2093\n",
      "Epoch 36/100\n",
      "2/2 [==============================] - 0s 2ms/step - loss: 20.3122 - mse: 589.6988\n",
      "Epoch 37/100\n",
      "2/2 [==============================] - 0s 2ms/step - loss: 11.5308 - mse: 214.0329\n",
      "Epoch 38/100\n",
      "2/2 [==============================] - 0s 1ms/step - loss: 17.1719 - mse: 384.5721\n",
      "Epoch 39/100\n",
      "2/2 [==============================] - 0s 2ms/step - loss: 18.0823 - mse: 465.0346\n",
      "Epoch 40/100\n",
      "2/2 [==============================] - 0s 1ms/step - loss: 18.8803 - mse: 533.0539\n",
      "Epoch 41/100\n",
      "2/2 [==============================] - 0s 2ms/step - loss: 6.1021 - mse: 61.1377\n",
      "Epoch 42/100\n",
      "2/2 [==============================] - 0s 2ms/step - loss: 13.9114 - mse: 277.6756\n",
      "Epoch 43/100\n",
      "2/2 [==============================] - 0s 1ms/step - loss: 11.4713 - mse: 223.2526\n",
      "Epoch 44/100\n",
      "2/2 [==============================] - 0s 2ms/step - loss: 27.8591 - mse: 1107.2738\n",
      "Epoch 45/100\n",
      "2/2 [==============================] - 0s 2ms/step - loss: 9.4227 - mse: 108.6457\n",
      "Epoch 46/100\n",
      "2/2 [==============================] - 0s 2ms/step - loss: 12.0553 - mse: 210.9639\n",
      "Epoch 47/100\n",
      "2/2 [==============================] - 0s 2ms/step - loss: 12.9833 - mse: 245.5852\n",
      "Epoch 48/100\n",
      "2/2 [==============================] - 0s 1ms/step - loss: 15.8062 - mse: 346.3828\n",
      "Epoch 49/100\n",
      "2/2 [==============================] - 0s 1ms/step - loss: 11.3642 - mse: 227.9358\n",
      "Epoch 50/100\n",
      "2/2 [==============================] - 0s 2ms/step - loss: 13.9199 - mse: 251.8040\n",
      "Epoch 51/100\n",
      "2/2 [==============================] - 0s 3ms/step - loss: 14.7445 - mse: 313.9312\n",
      "Epoch 52/100\n",
      "2/2 [==============================] - 0s 1ms/step - loss: 18.2970 - mse: 513.4113\n",
      "Epoch 53/100\n",
      "2/2 [==============================] - 0s 1ms/step - loss: 23.5437 - mse: 791.6155\n",
      "Epoch 54/100\n",
      "2/2 [==============================] - 0s 2ms/step - loss: 24.7074 - mse: 908.2425\n",
      "Epoch 55/100\n",
      "2/2 [==============================] - 0s 1ms/step - loss: 23.9588 - mse: 856.6840\n",
      "Epoch 56/100\n",
      "2/2 [==============================] - 0s 3ms/step - loss: 9.5334 - mse: 148.1674\n",
      "Epoch 57/100\n",
      "2/2 [==============================] - 0s 2ms/step - loss: 11.5260 - mse: 173.2759\n",
      "Epoch 58/100\n",
      "2/2 [==============================] - 0s 1ms/step - loss: 8.5982 - mse: 85.6248\n",
      "Epoch 59/100\n",
      "2/2 [==============================] - 0s 1ms/step - loss: 13.6201 - mse: 266.2144\n",
      "Epoch 60/100\n",
      "2/2 [==============================] - 0s 2ms/step - loss: 7.9123 - mse: 106.8903\n",
      "Epoch 61/100\n",
      "2/2 [==============================] - 0s 3ms/step - loss: 11.5808 - mse: 177.6824\n",
      "Epoch 62/100\n",
      "2/2 [==============================] - 0s 2ms/step - loss: 16.0625 - mse: 391.8801\n",
      "Epoch 63/100\n",
      "2/2 [==============================] - 0s 11ms/step - loss: 7.4583 - mse: 78.4646\n",
      "Epoch 64/100\n",
      "2/2 [==============================] - 0s 3ms/step - loss: 19.9108 - mse: 580.3558\n",
      "Epoch 65/100\n",
      "2/2 [==============================] - 0s 2ms/step - loss: 16.6355 - mse: 409.8803\n",
      "Epoch 66/100\n",
      "2/2 [==============================] - 0s 2ms/step - loss: 9.8430 - mse: 121.2160\n",
      "Epoch 67/100\n",
      "2/2 [==============================] - 0s 2ms/step - loss: 15.3466 - mse: 358.2106\n",
      "Epoch 68/100\n",
      "2/2 [==============================] - 0s 3ms/step - loss: 6.4331 - mse: 54.4285\n",
      "Epoch 69/100\n",
      "2/2 [==============================] - 0s 2ms/step - loss: 22.5609 - mse: 760.7719\n",
      "Epoch 70/100\n",
      "2/2 [==============================] - 0s 2ms/step - loss: 11.2323 - mse: 170.4654\n",
      "Epoch 71/100\n",
      "2/2 [==============================] - 0s 1ms/step - loss: 16.3493 - mse: 393.5721\n",
      "Epoch 72/100\n",
      "2/2 [==============================] - 0s 3ms/step - loss: 9.5128 - mse: 113.9469\n",
      "Epoch 73/100\n",
      "2/2 [==============================] - 0s 2ms/step - loss: 13.8153 - mse: 261.9326\n",
      "Epoch 74/100\n",
      "2/2 [==============================] - 0s 2ms/step - loss: 24.4898 - mse: 931.8830\n",
      "Epoch 75/100\n",
      "2/2 [==============================] - 0s 2ms/step - loss: 5.9189 - mse: 53.4840\n",
      "Epoch 76/100\n",
      "2/2 [==============================] - 0s 2ms/step - loss: 22.5451 - mse: 736.8807\n",
      "Epoch 77/100\n",
      "2/2 [==============================] - 0s 6ms/step - loss: 9.5236 - mse: 116.1867\n",
      "Epoch 78/100\n",
      "2/2 [==============================] - 0s 2ms/step - loss: 14.6723 - mse: 332.3245\n",
      "Epoch 79/100\n",
      "2/2 [==============================] - 0s 2ms/step - loss: 14.0291 - mse: 296.9773\n",
      "Epoch 80/100\n",
      "2/2 [==============================] - 0s 2ms/step - loss: 21.1274 - mse: 663.8465\n",
      "Epoch 81/100\n",
      "2/2 [==============================] - 0s 1ms/step - loss: 7.9997 - mse: 78.0318\n",
      "Epoch 82/100\n",
      "2/2 [==============================] - 0s 2ms/step - loss: 13.8515 - mse: 260.3981\n",
      "Epoch 83/100\n",
      "2/2 [==============================] - 0s 1ms/step - loss: 17.3387 - mse: 401.4415\n",
      "Epoch 84/100\n",
      "2/2 [==============================] - 0s 3ms/step - loss: 7.4150 - mse: 99.7090\n",
      "Epoch 85/100\n",
      "2/2 [==============================] - 0s 2ms/step - loss: 25.5082 - mse: 914.4316\n",
      "Epoch 86/100\n",
      "2/2 [==============================] - 0s 1ms/step - loss: 15.6839 - mse: 373.3982\n",
      "Epoch 87/100\n",
      "2/2 [==============================] - 0s 2ms/step - loss: 9.5720 - mse: 125.8424\n",
      "Epoch 88/100\n",
      "2/2 [==============================] - 0s 1ms/step - loss: 23.9470 - mse: 812.2728\n",
      "Epoch 89/100\n",
      "2/2 [==============================] - 0s 2ms/step - loss: 6.4067 - mse: 57.6652\n",
      "Epoch 90/100\n",
      "2/2 [==============================] - 0s 2ms/step - loss: 29.7132 - mse: 1332.8348\n",
      "Epoch 91/100\n",
      "2/2 [==============================] - 0s 1ms/step - loss: 12.0099 - mse: 195.5792\n",
      "Epoch 92/100\n",
      "2/2 [==============================] - 0s 1ms/step - loss: 21.1605 - mse: 618.7728\n",
      "Epoch 93/100\n",
      "2/2 [==============================] - 0s 2ms/step - loss: 6.7715 - mse: 70.3573\n",
      "Epoch 94/100\n",
      "2/2 [==============================] - 0s 2ms/step - loss: 15.1125 - mse: 325.6996\n",
      "Epoch 95/100\n",
      "2/2 [==============================] - 0s 2ms/step - loss: 14.3535 - mse: 274.6758\n",
      "Epoch 96/100\n",
      "2/2 [==============================] - 0s 1ms/step - loss: 13.7285 - mse: 277.7418\n",
      "Epoch 97/100\n",
      "2/2 [==============================] - 0s 2ms/step - loss: 14.8356 - mse: 285.5462\n",
      "Epoch 98/100\n",
      "2/2 [==============================] - 0s 1ms/step - loss: 15.5824 - mse: 344.3174\n",
      "Epoch 99/100\n",
      "2/2 [==============================] - 0s 1ms/step - loss: 10.3104 - mse: 192.2561\n",
      "Epoch 100/100\n",
      "2/2 [==============================] - 0s 2ms/step - loss: 22.6266 - mse: 723.2162\n"
     ]
    },
    {
     "data": {
      "text/plain": [
       "Text(0.5, 0, 'epochs')"
      ]
     },
     "execution_count": 62,
     "metadata": {},
     "output_type": "execute_result"
    },
    {
     "data": {
      "image/png": "[encoded data removed]",
      "text/plain": [
       "<Figure size 432x288 with 1 Axes>"
      ]
     },
     "metadata": {
      "needs_background": "light"
     },
     "output_type": "display_data"
    }
   ],
   "source": [
    "history = model_2.fit(x_train, y_train, epochs=100)\n",
    "pd.DataFrame(history.history).plot()\n",
    "plt.ylabel(\"loss\")\n",
    "plt.xlabel(\"epochs\")"
   ]
  },
  {
   "cell_type": "code",
   "execution_count": null,
   "metadata": {},
   "outputs": [],
   "source": []
  }
 ],
 "metadata": {
  "kernelspec": {
   "display_name": "Python 3",
   "language": "python",
   "name": "python3"
  },
  "language_info": {
   "codemirror_mode": {
    "name": "ipython",
    "version": 3
   },
   "file_extension": ".py",
   "mimetype": "text/x-python",
   "name": "python",
   "nbconvert_exporter": "python",
   "pygments_lexer": "ipython3",
   "version": "3.10.7"
  }
 },
 "nbformat": 4,
 "nbformat_minor": 2
}
